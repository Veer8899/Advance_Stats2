{
 "cells": [
  {
   "cell_type": "markdown",
   "id": "d2785c91-a5cb-4d4e-9fc8-d1f063835eb3",
   "metadata": {},
   "source": [
    "## Q1. Write a Python function that takes in two arrays of data and calculates the F-value for a variance ratio test. The function should return the F-value and the corresponding p-value for the test."
   ]
  },
  {
   "cell_type": "code",
   "execution_count": 2,
   "id": "54ae6c5f-df69-4442-95b6-78a3b932048e",
   "metadata": {},
   "outputs": [],
   "source": [
    "import numpy as np\n",
    "from scipy import stats"
   ]
  },
  {
   "cell_type": "code",
   "execution_count": 7,
   "id": "63b41f4e-dca0-4f05-98ee-1c00d98eb6e6",
   "metadata": {},
   "outputs": [],
   "source": [
    "def variance_ratio_test(data1, data2):\n",
    "   \n",
    "    #Calculate the sample variances\n",
    "    var1 = np.var(data1, ddof=1)\n",
    "    var2 = np.var(data2, ddof=1)\n",
    "    \n",
    "    #Ensure var1 is the larger variance\n",
    "    if var2 > var1:\n",
    "        var1, var2 = var2, var1\n",
    "        data1, data2 = data2, data1\n",
    "        \n",
    "    #Calculate the F-value\n",
    "    F_value = var1 / var2\n",
    "    \n",
    "    #Calculate degrees of freedom\n",
    "    df1 = len(data1) - 1\n",
    "    df2 = len(data2) - 1\n",
    "    \n",
    "    #Calculate the p-value using the F-distribution\n",
    "    p_value = 1 - stats.f.cdf(F_value, df1, df2)\n",
    "\n",
    "    return F_value, p_value"
   ]
  },
  {
   "cell_type": "code",
   "execution_count": 8,
   "id": "c4fb098a-6bf1-4d7b-b5f5-f677bcf67144",
   "metadata": {},
   "outputs": [],
   "source": [
    "#Example usage\n",
    "data_group1 = [34, 36, 32, 35, 33]\n",
    "data_group2 = [38, 40, 37, 41, 39]"
   ]
  },
  {
   "cell_type": "code",
   "execution_count": 9,
   "id": "4ce78666-be9e-49c2-a496-4a25cb0c57ff",
   "metadata": {},
   "outputs": [
    {
     "name": "stdout",
     "output_type": "stream",
     "text": [
      "F-value: 1.0\n",
      "p-value: 0.5\n"
     ]
    }
   ],
   "source": [
    "F_value, p_value = variance_ratio_test(data_group1, data_group2)\n",
    "print(\"F-value:\", F_value)\n",
    "print(\"p-value:\", p_value)"
   ]
  },
  {
   "cell_type": "markdown",
   "id": "528e02cc-dba4-460a-adcf-4332e0ee6f05",
   "metadata": {},
   "source": [
    "## Q2. Given a significance level of 0.05 and the degrees of freedom for the numerator and denominator of an F-distribution, write a Python function that returns the critical F-value for a two-tailed test."
   ]
  },
  {
   "cell_type": "code",
   "execution_count": 1,
   "id": "d35dd254-98c5-4a53-ba7f-8e6e3ebd2755",
   "metadata": {},
   "outputs": [
    {
     "name": "stdout",
     "output_type": "stream",
     "text": [
      "Critical F-value: 4.152804030062877\n"
     ]
    }
   ],
   "source": [
    "import scipy.stats as stats\n",
    "\n",
    "def critical_f_value(sign_level, dfn, dfd):\n",
    "    alpha = sign_level/2\n",
    "    return stats.f.ppf(1-alpha, dfn, dfd)\n",
    "\n",
    "\n",
    "sign_level = 0.05\n",
    "dfn = 3\n",
    "dfd = 15\n",
    "critical_f = critical_f_value(sign_level, dfn, dfd)\n",
    "print(f\"Critical F-value: {critical_f}\")"
   ]
  },
  {
   "cell_type": "markdown",
   "id": "02f79e12-50dc-42d3-b99a-522ec8ebc7b8",
   "metadata": {},
   "source": [
    "## Q3. Write a Python program that generates random samples from two normal distributions with known variances and uses an F-test to determine if the variances are equal. The program should output the F- value, degrees of freedom, and p-value for the test."
   ]
  },
  {
   "cell_type": "code",
   "execution_count": 2,
   "id": "cc27753c-0152-408a-b472-a8146ce30983",
   "metadata": {},
   "outputs": [
    {
     "name": "stdout",
     "output_type": "stream",
     "text": [
      "F-statistic: 1.1404\n",
      "Degrees of Freedom (Numerator): 49\n",
      "Degrees of Freedom (Denominator): 49\n",
      "P-value: 0.6475\n"
     ]
    }
   ],
   "source": [
    "import numpy as np\n",
    "import scipy.stats as stats\n",
    "\n",
    "def perform_f_test(sample1, sample2):\n",
    "    var1 = np.var(sample1, ddof=1)  #Sample variance with Bessel's correction\n",
    "    var2 = np.var(sample2, ddof=1)\n",
    "    dfn = len(sample1) - 1\n",
    "    dfd = len(sample2) - 1\n",
    "\n",
    "    f_statistic = var1 / var2 if var1 >= var2 else var2 / var1\n",
    "    p_value = 2 * min(stats.f.cdf(f_statistic, dfn, dfd), 1 - stats.f.cdf(f_statistic, dfn, dfd))\n",
    "\n",
    "    return f_statistic, dfn, dfd, p_value\n",
    "\n",
    "#Generate random samples from two normal distributions\n",
    "np.random.seed(42)\n",
    "sample_size = 50\n",
    "mean1 = 0\n",
    "variance1 = 9\n",
    "sample1 = np.random.normal(mean1, np.sqrt(variance1), sample_size)\n",
    "\n",
    "mean2 = 2\n",
    "variance2 = 9\n",
    "sample2 = np.random.normal(mean2, np.sqrt(variance2), sample_size)\n",
    "\n",
    "#Perform F-test\n",
    "f_statistic, dfn, dfd, p_value = perform_f_test(sample1, sample2)\n",
    "\n",
    "\n",
    "print(f\"F-statistic: {f_statistic:.4f}\")\n",
    "print(f\"Degrees of Freedom (Numerator): {dfn}\")\n",
    "print(f\"Degrees of Freedom (Denominator): {dfd}\")\n",
    "print(f\"P-value: {p_value:.4f}\")\n"
   ]
  },
  {
   "cell_type": "markdown",
   "id": "bc76e5c6-7b83-4ec3-90cd-1ecee27010cf",
   "metadata": {},
   "source": [
    "## Q4.The variances of two populations are known to be 10 and 15. A sample of 12 observations is taken from each population. Conduct an F-test at the 5% significance level to determine if the variances are significantly different."
   ]
  },
  {
   "cell_type": "code",
   "execution_count": 4,
   "id": "181166e4-26db-4a77-a509-88395cef5a73",
   "metadata": {},
   "outputs": [
    {
     "name": "stdout",
     "output_type": "stream",
     "text": [
      "F-statistic: 0.6667\n",
      "Degrees of Freedom (Numerator): 11\n",
      "Degrees of Freedom (Denominator): 11\n",
      "P-value: 0.5124\n",
      "Fail to reject the null hypothesis\n"
     ]
    }
   ],
   "source": [
    "import scipy.stats as stats\n",
    "\n",
    "#Given data\n",
    "variance1 = 10\n",
    "variance2 = 15\n",
    "sample_size = 12\n",
    "significance_level = 0.05\n",
    "\n",
    "#Calculate the F-statistic\n",
    "f_statistic = variance1 / variance2\n",
    "\n",
    "#Calculate degrees of freedom\n",
    "dfn = sample_size - 1\n",
    "dfd = sample_size - 1\n",
    "\n",
    "#Calculate p-value\n",
    "p_value = 2 * min(stats.f.cdf(f_statistic, dfn, dfd), 1 - stats.f.cdf(f_statistic, dfn, dfd))\n",
    "\n",
    "#Compare p-value to significance level\n",
    "if p_value < significance_level:\n",
    "    result = \"Reject the null hypothesis\"\n",
    "else:\n",
    "    result = \"Fail to reject the null hypothesis\"\n",
    "\n",
    "\n",
    "print(f\"F-statistic: {f_statistic:.4f}\")\n",
    "print(f\"Degrees of Freedom (Numerator): {dfn}\")\n",
    "print(f\"Degrees of Freedom (Denominator): {dfd}\")\n",
    "print(f\"P-value: {p_value:.4f}\")\n",
    "print(result)\n"
   ]
  },
  {
   "cell_type": "markdown",
   "id": "ec8c208e-235b-4951-a0bb-930f8436efa5",
   "metadata": {},
   "source": [
    "## Q5. A manufacturer claims that the variance of the diameter of a certain product is 0.005. A sample of 25 products is taken, and the sample variance is found to be 0.006. Conduct an F-test at the 1% significance level to determine if the claim is justified."
   ]
  },
  {
   "cell_type": "code",
   "execution_count": 6,
   "id": "050030db-850e-4e7f-95ad-79ea739106bd",
   "metadata": {},
   "outputs": [
    {
     "name": "stdout",
     "output_type": "stream",
     "text": [
      "F-statistic: 1.2000\n",
      "Degrees of Freedom (Numerator): 24\n",
      "Degrees of Freedom (Denominator): 24\n",
      "P-value: 0.6587\n",
      "Fail to reject the null hypothesis\n"
     ]
    }
   ],
   "source": [
    "import scipy.stats as stats\n",
    "\n",
    "#Given data\n",
    "claimed_variance = 0.005\n",
    "sample_variance = 0.006\n",
    "sample_size = 25\n",
    "significance_level = 0.01\n",
    "\n",
    "#Calculate the F-statistic\n",
    "f_statistic = sample_variance / claimed_variance\n",
    "\n",
    "#Calculate degrees of freedom\n",
    "dfn = sample_size - 1\n",
    "dfd = sample_size - 1\n",
    "\n",
    "#Calculate p-value\n",
    "p_value = 2 * min(stats.f.cdf(f_statistic, dfn, dfd), 1 - stats.f.cdf(f_statistic, dfn, dfd))\n",
    "\n",
    "#Compare p-value to significance level\n",
    "if p_value < significance_level:\n",
    "    result = \"Reject the null hypothesis\"\n",
    "else:\n",
    "    result = \"Fail to reject the null hypothesis\"\n",
    "\n",
    "\n",
    "print(f\"F-statistic: {f_statistic:.4f}\")\n",
    "print(f\"Degrees of Freedom (Numerator): {dfn}\")\n",
    "print(f\"Degrees of Freedom (Denominator): {dfd}\")\n",
    "print(f\"P-value: {p_value:.4f}\")\n",
    "print(result)\n"
   ]
  },
  {
   "cell_type": "markdown",
   "id": "892e5ead-97d1-495c-8679-21076041312b",
   "metadata": {},
   "source": [
    "## Q6. Write a Python function that takes in the degrees of freedom for the numerator and denominator of an F-distribution and calculates the mean and variance of the distribution. The function should return the mean and variance as a tuple."
   ]
  },
  {
   "cell_type": "code",
   "execution_count": 7,
   "id": "e3fcff88-8c1e-4310-9449-ea256adbec7f",
   "metadata": {},
   "outputs": [
    {
     "name": "stdout",
     "output_type": "stream",
     "text": [
      "Mean: 1.1538\n",
      "Variance: 0.8714\n"
     ]
    }
   ],
   "source": [
    "def calculate_f_distribution_stats(dfn, dfd):\n",
    "    if dfn <= 0 or dfd <= 0:\n",
    "        raise ValueError(\"Degrees of freedom must be greater than zero.\")\n",
    "\n",
    "    mean = dfd / (dfd - 2)\n",
    "    if dfd > 4:\n",
    "        variance = (2 * dfd**2 * (dfn + dfd - 2)) / (dfn * (dfd - 2)**2 * (dfd - 4))\n",
    "    else:\n",
    "        variance = float('nan')  #Variance undefined for dfd <= 4\n",
    "\n",
    "    return mean, variance\n",
    "\n",
    "\n",
    "dfn = 5\n",
    "dfd = 15\n",
    "mean, variance = calculate_f_distribution_stats(dfn, dfd)\n",
    "print(f\"Mean: {mean:.4f}\")\n",
    "print(f\"Variance: {variance:.4f}\")\n"
   ]
  },
  {
   "cell_type": "markdown",
   "id": "f2862107-54a5-45d5-9529-a511acf79220",
   "metadata": {},
   "source": [
    "## Q7. A random sample of 10 measurements is taken from a normal population with unknown variance. The sample variance is found to be 25. Another random sample of 15 measurements is taken from another normal population with unknown variance, and the sample variance is found to be 20. Conduct an F-test at the 10% significance level to determine if the variances are significantly different."
   ]
  },
  {
   "cell_type": "code",
   "execution_count": 8,
   "id": "042bb8e8-0dc6-4a81-a3e9-4141e1b2d6f8",
   "metadata": {},
   "outputs": [
    {
     "name": "stdout",
     "output_type": "stream",
     "text": [
      "F-statistic: 1.2500\n",
      "Degrees of Freedom (Numerator): 9\n",
      "Degrees of Freedom (Denominator): 14\n",
      "P-value: 0.6832\n",
      "Fail to reject the null hypothesis\n"
     ]
    }
   ],
   "source": [
    "import scipy.stats as stats\n",
    "\n",
    "#Given data\n",
    "sample_variance1 = 25\n",
    "sample_size1 = 10\n",
    "\n",
    "sample_variance2 = 20\n",
    "sample_size2 = 15\n",
    "\n",
    "significance_level = 0.10\n",
    "\n",
    "#Calculate the F-statistic\n",
    "f_statistic = sample_variance1 / sample_variance2\n",
    "\n",
    "#Calculate degrees of freedom\n",
    "dfn = sample_size1 - 1\n",
    "dfd = sample_size2 - 1\n",
    "\n",
    "#Calculate p-value\n",
    "p_value = 2 * min(stats.f.cdf(f_statistic, dfn, dfd), 1 - stats.f.cdf(f_statistic, dfn, dfd))\n",
    "\n",
    "#Compare p-value to significance level\n",
    "if p_value < significance_level:\n",
    "    result = \"Reject the null hypothesis\"\n",
    "else:\n",
    "    result = \"Fail to reject the null hypothesis\"\n",
    "\n",
    "\n",
    "print(f\"F-statistic: {f_statistic:.4f}\")\n",
    "print(f\"Degrees of Freedom (Numerator): {dfn}\")\n",
    "print(f\"Degrees of Freedom (Denominator): {dfd}\")\n",
    "print(f\"P-value: {p_value:.4f}\")\n",
    "print(result)\n"
   ]
  },
  {
   "cell_type": "markdown",
   "id": "3e234f6f-d2b2-4f77-8297-7c14a5ca4e70",
   "metadata": {},
   "source": [
    "## Q8. The following data represent the waiting times in minutes at two different restaurants on a Saturday night: Restaurant A: 24, 25, 28, 23, 22, 20, 27; Restaurant B: 31, 33, 35, 30, 32, 36. Conduct an F-test at the 5% significance level to determine if the variances are significantly different."
   ]
  },
  {
   "cell_type": "code",
   "execution_count": 9,
   "id": "a34d77e3-9c4a-4f08-856d-8dd2026fdd60",
   "metadata": {},
   "outputs": [
    {
     "name": "stdout",
     "output_type": "stream",
     "text": [
      "F-statistic: 1.4552\n",
      "Degrees of Freedom (Numerator): 6\n",
      "Degrees of Freedom (Denominator): 5\n",
      "P-value: 0.6975\n",
      "Fail to reject the null hypothesis\n"
     ]
    }
   ],
   "source": [
    "import scipy.stats as stats\n",
    "import numpy as np\n",
    "\n",
    "# Given data\n",
    "data_a = np.array([24, 25, 28, 23, 22, 20, 27])\n",
    "data_b = np.array([31, 33, 35, 30, 32, 36])\n",
    "\n",
    "significance_level = 0.05\n",
    "\n",
    "## Calculate sample variances\n",
    "sample_variance_a = np.var(data_a, ddof=1)\n",
    "sample_variance_b = np.var(data_b, ddof=1)\n",
    "\n",
    "## Calculate degrees of freedom\n",
    "dfn = len(data_a) - 1\n",
    "dfd = len(data_b) - 1\n",
    "\n",
    "##Calculate F-statistic\n",
    "f_statistic = sample_variance_a / sample_variance_b\n",
    "\n",
    "#Calculate p-value\n",
    "p_value = 2 * min(stats.f.cdf(f_statistic, dfn, dfd), 1 - stats.f.cdf(f_statistic, dfn, dfd))\n",
    "\n",
    "#Compare p-value to significance level\n",
    "if p_value < significance_level:\n",
    "    result = \"Reject the null hypothesis\"\n",
    "else:\n",
    "    result = \"Fail to reject the null hypothesis\"\n",
    "    \n",
    "print(f\"F-statistic: {f_statistic:.4f}\")\n",
    "print(f\"Degrees of Freedom (Numerator): {dfn}\")\n",
    "print(f\"Degrees of Freedom (Denominator): {dfd}\")\n",
    "print(f\"P-value: {p_value:.4f}\")\n",
    "print(result)\n"
   ]
  },
  {
   "cell_type": "markdown",
   "id": "ba171a4d-ce9b-4597-903c-0ba9e000e444",
   "metadata": {},
   "source": [
    "## Q9. The following data represent the test scores of two groups of students: Group A: 80, 85, 90, 92, 87, 83; Group B: 75, 78, 82, 79, 81, 84. Conduct an F-test at the 1% significance level to determine if the variances are significantly different."
   ]
  },
  {
   "cell_type": "code",
   "execution_count": 10,
   "id": "1df9790e-327a-4d3f-9959-ca56d9cff85d",
   "metadata": {},
   "outputs": [
    {
     "name": "stdout",
     "output_type": "stream",
     "text": [
      "F-statistic: 1.9443\n",
      "Degrees of Freedom (Numerator): 5\n",
      "Degrees of Freedom (Denominator): 5\n",
      "P-value: 0.4831\n",
      "Fail to reject the null hypothesis\n"
     ]
    }
   ],
   "source": [
    "import scipy.stats as stats\n",
    "import numpy as np\n",
    "\n",
    "#Given data\n",
    "group_a_scores = np.array([80, 85, 90, 92, 87, 83])\n",
    "group_b_scores = np.array([75, 78, 82, 79, 81, 84])\n",
    "\n",
    "significance_level = 0.01\n",
    "\n",
    "#Calculate sample variances\n",
    "sample_variance_a = np.var(group_a_scores, ddof=1)\n",
    "sample_variance_b = np.var(group_b_scores, ddof=1)\n",
    "\n",
    "#Calculate degrees of freedom\n",
    "dfn = len(group_a_scores) - 1\n",
    "dfd = len(group_b_scores) - 1\n",
    "\n",
    "# Calculate F-statistic\n",
    "f_statistic = sample_variance_a / sample_variance_b\n",
    "\n",
    "#Calculate p-value\n",
    "p_value = 2 * min(stats.f.cdf(f_statistic, dfn, dfd), 1 - stats.f.cdf(f_statistic, dfn, dfd))\n",
    "\n",
    "#Compare p-value to significance level\n",
    "if p_value < significance_level:\n",
    "    result = \"Reject the null hypothesis\"\n",
    "else:\n",
    "    result = \"Fail to reject the null hypothesis\"\n",
    "\n",
    "print(f\"F-statistic: {f_statistic:.4f}\")\n",
    "print(f\"Degrees of Freedom (Numerator): {dfn}\")\n",
    "print(f\"Degrees of Freedom (Denominator): {dfd}\")\n",
    "print(f\"P-value: {p_value:.4f}\")\n",
    "print(result)\n"
   ]
  },
  {
   "cell_type": "code",
   "execution_count": null,
   "id": "9f013ee2-31ce-4210-9c66-38b09f05193b",
   "metadata": {},
   "outputs": [],
   "source": []
  }
 ],
 "metadata": {
  "kernelspec": {
   "display_name": "Python 3 (ipykernel)",
   "language": "python",
   "name": "python3"
  },
  "language_info": {
   "codemirror_mode": {
    "name": "ipython",
    "version": 3
   },
   "file_extension": ".py",
   "mimetype": "text/x-python",
   "name": "python",
   "nbconvert_exporter": "python",
   "pygments_lexer": "ipython3",
   "version": "3.10.8"
  }
 },
 "nbformat": 4,
 "nbformat_minor": 5
}
