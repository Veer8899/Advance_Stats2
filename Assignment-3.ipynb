{
 "cells": [
  {
   "cell_type": "markdown",
   "id": "4ea22644-2ddd-46b2-9791-3ffdcdc2ec61",
   "metadata": {},
   "source": [
    "## Q1: What is Estimation Statistics? Explain point estimate and interval estimate."
   ]
  },
  {
   "cell_type": "markdown",
   "id": "2669f260-5419-4aa2-b5b9-3592bd57ce48",
   "metadata": {},
   "source": [
    "#### Estimation statistics is a branch of statistics that deals with estimating population parameters based on sample data. \n",
    "\n",
    "#### Point Estimate: A point estimate is a single numerical value that is used to estimate an unknown population parameter. \n",
    "\n",
    "#### Interval Estimate: An interval estimate, also known as a confidence interval, is a range of values that provides a range of plausible values for the population parameter. "
   ]
  },
  {
   "cell_type": "markdown",
   "id": "d4be5492-ee34-4d88-96be-924bfc6ed127",
   "metadata": {},
   "source": [
    "## Q2. Write a Python function to estimate the population mean using a sample mean and standard deviation."
   ]
  },
  {
   "cell_type": "code",
   "execution_count": 2,
   "id": "a7ee74c1-536e-4111-b727-9bcf0c2c712c",
   "metadata": {},
   "outputs": [
    {
     "name": "stdout",
     "output_type": "stream",
     "text": [
      "Estimated population mean: 150 (95% confidence interval: [147.22814141774873, 152.77185858225127])\n"
     ]
    }
   ],
   "source": [
    "import math \n",
    "\n",
    "def estimate_pop_mean(sample_mean, sample_std, same_size):\n",
    "    \n",
    "    standard_error = sample_std / math.sqrt(same_size)\n",
    "    \n",
    "    z_value = 1.96\n",
    "    margin_of_error = z_value * standard_error\n",
    "    \n",
    "    l_bound = sample_mean - margin_of_error\n",
    "    u_bound = sample_mean + margin_of_error\n",
    "    \n",
    "    return l_bound, u_bound\n",
    "\n",
    "sample_mean = 150\n",
    "sample_std = 10\n",
    "same_size = 50\n",
    "\n",
    "l_bound, u_bound = estimate_pop_mean(sample_mean, sample_std, same_size)\n",
    "print(f\"Estimated population mean: {sample_mean} (95% confidence interval: [{l_bound}, {u_bound}])\")"
   ]
  },
  {
   "cell_type": "markdown",
   "id": "432b44ea-9fc3-4a41-a89f-c5bff7014c87",
   "metadata": {},
   "source": [
    "## Q3: What is Hypothesis testing? Why is it used? State the importance of Hypothesis testing."
   ]
  },
  {
   "cell_type": "markdown",
   "id": "6ec66fd1-e1b8-4f80-ad90-d2bd29ca142a",
   "metadata": {},
   "source": [
    "#### Hypothesis testing is a statistical method used to make decisions or draw conclusions about a population based on sample data. It involves formulating two competing hypotheses: the null hypothesis (H0) and the alternative hypothesis (H1). The null hypothesis typically represents the status quo or no effect, while the alternative hypothesis represents the claim or effect that the researcher wants to investigate."
   ]
  },
  {
   "cell_type": "markdown",
   "id": "3c1b1498-d3ac-4576-86cc-94e3dd91c307",
   "metadata": {},
   "source": [
    "#### The goal of hypothesis testing is to assess the evidence provided by the sample data to either reject or fail to reject the null hypothesis. The process involves comparing the observed sample results with what would be expected under the assumption that the null hypothesis is true. If the sample evidence strongly contradicts the null hypothesis, we reject it in favor of the alternative hypothesis."
   ]
  },
  {
   "cell_type": "markdown",
   "id": "336fef9e-6ca5-414f-81eb-b5e14b26b402",
   "metadata": {},
   "source": [
    "### Importance of Hypothesis Testing:\n",
    "\n",
    "#### Evidence-Based Decision Making: Hypothesis testing provides a systematic and objective way to make decisions based on evidence from sample data rather than relying on intuition or gut feelings.\n",
    "\n",
    "#### Scientific Research: In scientific research, hypothesis testing allows researchers to test specific theories and determine whether the evidence supports or contradicts their hypotheses.\n",
    "\n",
    "#### Quality Control: In manufacturing and industries, hypothesis testing is used to ensure product quality by testing whether the manufacturing process meets specific standards.\n",
    "\n",
    "#### Medical Studies: Hypothesis testing is widely used in medical studies to evaluate the effectiveness of new treatments or drugs compared to existing ones.\n",
    "\n",
    "#### Social Sciences: In psychology, sociology, and other social sciences, hypothesis testing helps researchers study human behavior, attitudes, and patterns.\n",
    "\n",
    "#### Business Decisions: Hypothesis testing plays a crucial role in business decision-making, such as testing the effectiveness of marketing strategies or new product launches.\n",
    "\n",
    "#### Statistical Inference: Hypothesis testing is an essential component of statistical inference, allowing us to draw conclusions about a population based on sample data.\n",
    "\n",
    "#### Reducing Bias: Hypothesis testing provides a structured approach to decision-making, reducing the influence of personal bias and intuition.\n",
    "\n",
    "#### Validity and Reliability: It ensures that the results of an experiment or study are valid and reliable by providing a statistical framework for assessing the evidence.\n",
    "\n",
    "#### Continual Improvement: Hypothesis testing encourages continual improvement and refinement of theories, methods, and practices based on new evidence."
   ]
  },
  {
   "cell_type": "markdown",
   "id": "678da0ef-ff71-4b6e-96aa-fbc2dfe906f8",
   "metadata": {},
   "source": [
    "## Q4. Create a hypothesis that states whether the average weight of male college students is greater than the average weight of female college students."
   ]
  },
  {
   "cell_type": "markdown",
   "id": "e97c505a-9839-465c-bace-09828ee9fd68",
   "metadata": {},
   "source": [
    "### Hypothesis Statement:\n",
    "\n",
    "#### Null Hypothesis (H0): The average weight of male college students is equal to or less than the average weight of female college students.\n",
    "\n",
    "#### Alternative Hypothesis (H1): The average weight of male college students is greater than the average weight of female college students.\n",
    "\n",
    "In symbols:\n",
    "\n",
    "H0: μ_male ≤ μ_female\n",
    "\n",
    "H1: μ_male > μ_female\n",
    "\n",
    "where:\n",
    "\n",
    "##### H0 represents the null hypothesis.\n",
    "##### H1 represents the alternative hypothesis.\n",
    "##### μ_male represents the population mean weight of male college students.\n",
    "##### μ_female represents the population mean weight of female college students.\n",
    "\n",
    "#### In this hypothesis, we are testing whether there is enough evidence to support the claim that male college students, on average, weigh more than female college students. To conduct hypothesis testing, we would collect a sample of male and female college students' weights and analyze the data to draw conclusions about the population means."
   ]
  },
  {
   "cell_type": "markdown",
   "id": "8b7055b2-323a-43ad-a654-041ac99a1a11",
   "metadata": {},
   "source": [
    "## Q5. Write a Python script to conduct a hypothesis test on the difference between two population means, given a sample from each population."
   ]
  },
  {
   "cell_type": "code",
   "execution_count": 3,
   "id": "f7c0864e-3e52-45be-9ce9-a0a881b18230",
   "metadata": {},
   "outputs": [
    {
     "name": "stdout",
     "output_type": "stream",
     "text": [
      "Fail to reject the null hypothesis.\n",
      "t-statistic: 1.8490\n",
      "p-value: 0.1016\n"
     ]
    }
   ],
   "source": [
    "import numpy as np\n",
    "from scipy import stats\n",
    "\n",
    "def two_sample_t_test(sample1, sample2, alpha=0.05):\n",
    "    # Calculate the means of the samples\n",
    "    mean1 = np.mean(sample1)\n",
    "    mean2 = np.mean(sample2)\n",
    "    \n",
    "    # Calculate the standard deviations of the samples\n",
    "    std_dev1 = np.std(sample1, ddof=1)  # ddof=1 for Bessel's correction\n",
    "    std_dev2 = np.std(sample2, ddof=1)\n",
    "    \n",
    "    # Calculate the sizes of the samples\n",
    "    n1 = len(sample1)\n",
    "    n2 = len(sample2)\n",
    "    \n",
    "    # Calculate the standard error of the difference between the means\n",
    "    standard_error = np.sqrt((std_dev1**2 / n1) + (std_dev2**2 / n2))\n",
    "    \n",
    "    # Calculate the t-statistic\n",
    "    t_statistic = (mean1 - mean2) / standard_error\n",
    "    \n",
    "    # Calculate the degrees of freedom\n",
    "    degrees_of_freedom = n1 + n2 - 2\n",
    "    \n",
    "    # Calculate the critical t-value for the given alpha level\n",
    "    critical_t_value = stats.t.ppf(1 - alpha / 2, degrees_of_freedom)\n",
    "    \n",
    "    # Calculate the p-value (two-tailed test)\n",
    "    p_value = 2 * (1 - stats.t.cdf(np.abs(t_statistic), degrees_of_freedom))\n",
    "    \n",
    "    # Conduct the hypothesis test\n",
    "    if np.abs(t_statistic) > critical_t_value:\n",
    "        print(\"Reject the null hypothesis.\")\n",
    "    else:\n",
    "        print(\"Fail to reject the null hypothesis.\")\n",
    "        \n",
    "    print(f\"t-statistic: {t_statistic:.4f}\")\n",
    "    print(f\"p-value: {p_value:.4f}\")\n",
    "\n",
    "# Example usage\n",
    "sample1 = np.array([68, 72, 65, 70, 74])\n",
    "sample2 = np.array([62, 66, 63, 68, 70])\n",
    "alpha = 0.05\n",
    "\n",
    "two_sample_t_test(sample1, sample2, alpha)\n",
    " "
   ]
  },
  {
   "cell_type": "markdown",
   "id": "05b959c3-fd88-452d-aa52-7aedf5c462ed",
   "metadata": {},
   "source": [
    "## Q6: What is a null and alternative hypothesis? Give some examples."
   ]
  },
  {
   "cell_type": "markdown",
   "id": "32cf6596-7b63-4077-b3ad-1a3161384115",
   "metadata": {},
   "source": [
    "### Null Hypothesis (H0):\n",
    "\n",
    "#### The null hypothesis is a statement of no effect, no difference, or no relationship between variables. It represents the status quo or the default assumption. In hypothesis testing, we assume that the null hypothesis is true and seek to gather evidence from sample data to either reject or fail to reject it. In symbols, the null hypothesis is typically denoted as H0.\n",
    "\n",
    "### Alternative Hypothesis (H1):\n",
    "\n",
    "#### The alternative hypothesis is the statement that contradicts or opposes the null hypothesis. It represents the claim or effect that the researcher wants to investigate. In other words, it suggests that there is a significant difference, effect, or relationship between variables. In symbols, the alternative hypothesis is typically denoted as H1.\n",
    "\n",
    "### Examples:\n",
    "\n",
    "#### Example 1 - Mean Comparison:\n",
    "\n",
    "Null Hypothesis (H0): The mean test scores of students in Class A and Class B are equal.\n",
    "\n",
    "Alternative Hypothesis (H1): The mean test scores of students in Class A and Class B are not equal.\n",
    "\n",
    "#### Example 2 - Proportion Comparison:\n",
    "\n",
    "Null Hypothesis (H0): The proportion of people who prefer brand X over brand Y is 50%.\n",
    "\n",
    "Alternative Hypothesis (H1): The proportion of people who prefer brand X over brand Y is different from 50%."
   ]
  },
  {
   "cell_type": "markdown",
   "id": "abce5861-10de-4451-87ae-bfa1415e56ed",
   "metadata": {},
   "source": [
    "## Q7: Write down the steps involved in hypothesis testing."
   ]
  },
  {
   "cell_type": "markdown",
   "id": "9cc18d6b-994f-4f79-b988-62e82945e4a9",
   "metadata": {},
   "source": [
    "#### Hypothesis testing involves a systematic process to make decisions or draw conclusions about a population based on sample data. The steps involved in hypothesis testing are as follows:\n",
    "\n",
    "### Formulate the Hypotheses:\n",
    "\n",
    "State the null hypothesis (H0), which represents the status quo or the assumption of no effect, no difference, or no relationship.\n",
    "State the alternative hypothesis (H1), which represents the claim or effect that contradicts the null hypothesis.\n",
    "### Choose the Significance Level (Alpha):\n",
    "\n",
    "Select the significance level (α), which is the probability of making a Type I error (incorrectly rejecting the null hypothesis when it is true).\n",
    "Commonly used significance levels are 0.05 (5%) and 0.01 (1%).\n",
    "### Select the Test Statistic:\n",
    "\n",
    "Choose an appropriate test statistic that is relevant to the hypothesis being tested and the type of data (e.g., t-statistic, z-statistic, chi-square statistic).\n",
    "### Collect Sample Data:\n",
    "\n",
    "Obtain a random sample from the population of interest.\n",
    "Ensure that the sample is representative and meets the assumptions required for the chosen test statistic.\n",
    "### Compute the Test Statistic:\n",
    "\n",
    "Calculate the value of the test statistic using the sample data and the chosen test formula.\n",
    "### Determine the Critical Region (Rejection Region):\n",
    "\n",
    "Define the critical region, which is the range of values of the test statistic that would lead to rejecting the null hypothesis.\n",
    "The critical region is determined based on the significance level and the nature of the test (one-tailed or two-tailed).\n",
    "### Calculate the p-value:\n",
    "\n",
    "Calculate the probability of obtaining the observed test statistic value or a more extreme value under the assumption that the null hypothesis is true.\n",
    "The p-value represents the probability of observing the data or more extreme data if the null hypothesis is correct.\n",
    "### Make a Decision:\n",
    "\n",
    "If the p-value is less than or equal to the significance level (α), reject the null hypothesis in favor of the alternative hypothesis.\n",
    "If the p-value is greater than the significance level (α), fail to reject the null hypothesis.\n",
    "### Interpret the Results:\n",
    "\n",
    "Interpret the decision in the context of the problem and draw conclusions about the population based on the sample data.\n",
    "### Report the Findings:\n",
    "\n",
    "Clearly communicate the results of the hypothesis test, including the decision, the test statistic value, the p-value, and the conclusions."
   ]
  },
  {
   "cell_type": "markdown",
   "id": "2801cd7b-eebd-4a37-8525-2dc7618aa49a",
   "metadata": {},
   "source": [
    "## Q8. Define p-value and explain its significance in hypothesis testing."
   ]
  },
  {
   "cell_type": "markdown",
   "id": "eff41f26-d142-49a5-a9bb-9da36f556c5f",
   "metadata": {},
   "source": [
    "#### The p-value is a probability value that measures the strength of evidence against the null hypothesis (H0) in hypothesis testing. It represents the probability of obtaining the observed test statistic value or a more extreme value under the assumption that the null hypothesis is true."
   ]
  },
  {
   "cell_type": "markdown",
   "id": "fcbb2a39-8026-48af-a541-f545386e6787",
   "metadata": {},
   "source": [
    "### Significance in Hypothesis Testing:\n",
    "\n",
    "The significance of the p-value in hypothesis testing lies in its role in decision-making and drawing conclusions about the population based on sample data. Here's how the p-value is used in hypothesis testing:\n",
    "\n",
    "### Interpreting the p-value:\n",
    "\n",
    "##### >>If the p-value is small (typically less than or equal to the chosen significance level α), it suggests that the observed results are unlikely to occur by chance alone under the assumption that the null hypothesis is true. In such cases, we say that the data provides strong evidence against the null hypothesis.\n",
    "##### >>If the p-value is large, it indicates that the observed results are likely to occur by chance even if the null hypothesis is true. In such cases, we fail to find strong evidence against the null hypothesis.\n",
    "### Decision Rule:\n",
    "\n",
    "##### >>When conducting a hypothesis test, we compare the p-value to the significance level (α) that we set before the test. If the p-value is less than or equal to α, we reject the null hypothesis in favor of the alternative hypothesis (H1).\n",
    "##### >>If the p-value is greater than α, we fail to reject the null hypothesis. This does not mean that the null hypothesis is proven true; it means that we do not have sufficient evidence to support the alternative hypothesis.\n",
    "### Determining Statistical Significance:\n",
    "\n",
    "##### >>A small p-value (usually less than 0.05 or 0.01) indicates statistical significance. It suggests that the observed effect or difference in the sample is likely to be present in the population, and we can conclude that the effect is not due to random chance.\n",
    "##### >>A large p-value suggests that the observed effect is likely due to random chance, and there is no significant evidence to support the claim made in the alternative hypothesis."
   ]
  },
  {
   "cell_type": "markdown",
   "id": "33a986a6-98c4-4c87-8b1d-a26c98200874",
   "metadata": {},
   "source": [
    "## Q9. Generate a Student's t-distribution plot using Python's matplotlib library, with the degrees of freedom parameter set to 10."
   ]
  },
  {
   "cell_type": "code",
   "execution_count": 4,
   "id": "ed886856-c74a-4299-92e6-5a4ce433b020",
   "metadata": {},
   "outputs": [
    {
     "data": {
      "image/png": "[encoded data removed]",
      "text/plain": [
       "<Figure size 640x480 with 1 Axes>"
      ]
     },
     "metadata": {},
     "output_type": "display_data"
    }
   ],
   "source": [
    "import numpy as np\n",
    "import matplotlib.pyplot as plt\n",
    "from scipy.stats import t\n",
    "\n",
    "# Degrees of freedom\n",
    "df = 10\n",
    "\n",
    "\n",
    "x = np.linspace(-4, 4, 1000)\n",
    "\n",
    "\n",
    "y = t.pdf(x, df)\n",
    "\n",
    "\n",
    "plt.plot(x, y, label=f't-distribution (df={df})')\n",
    "\n",
    "\n",
    "plt.xlabel('x')\n",
    "plt.ylabel('Probability Density')\n",
    "plt.title(f'Student\\'s t-distribution with {df} degrees of freedom')\n",
    "\n",
    "\n",
    "plt.legend()\n",
    "\n",
    "\n",
    "plt.grid(True)\n",
    "plt.show()\n"
   ]
  },
  {
   "cell_type": "markdown",
   "id": "f6843130-9835-4c87-b1ef-4d903a6b6e7f",
   "metadata": {},
   "source": [
    "## Q10. Write a Python program to calculate the two-sample t-test for independent samples, given two random samples of equal size and a null hypothesis that the population means are equal."
   ]
  },
  {
   "cell_type": "code",
   "execution_count": 7,
   "id": "661a6344-280f-4799-ba73-af22e727b253",
   "metadata": {},
   "outputs": [
    {
     "name": "stdout",
     "output_type": "stream",
     "text": [
      "Reject the null hypothesis (The means are different).\n",
      "t-statistic: -2.8015\n",
      "p-value: 0.0069\n"
     ]
    }
   ],
   "source": [
    "import numpy as np\n",
    "from scipy import stats\n",
    "\n",
    "def two_sample_t_test(sample1, sample2, alpha=0.05):\n",
    "    mean1 = np.mean(sample1)\n",
    "    mean2 = np.mean(sample2)\n",
    "    \n",
    "    \n",
    "    std_dev1 = np.std(sample1, ddof=1)  \n",
    "    std_dev2 = np.std(sample2, ddof=1)\n",
    "    \n",
    "   \n",
    "    n1 = len(sample1)\n",
    "    n2 = len(sample2)\n",
    "    \n",
    "    pooled_std_dev = np.sqrt(((n1 - 1) * std_dev1**2 + (n2 - 1) * std_dev2**2) / (n1 + n2 - 2))       \n",
    "    standard_error = pooled_std_dev * np.sqrt(1/n1 + 1/n2)        \n",
    "    t_statistic = (mean1 - mean2) / standard_error\n",
    "    \n",
    "    degrees_of_freedom = n1 + n2 - 2\n",
    "    \n",
    "    critical_t_value = stats.t.ppf(1 - alpha / 2, degrees_of_freedom)       \n",
    "    p_value = 2 * (1 - stats.t.cdf(np.abs(t_statistic), degrees_of_freedom))\n",
    "    \n",
    "    # Conduct the hypothesis test\n",
    "    if np.abs(t_statistic) > critical_t_value:\n",
    "        print(\"Reject the null hypothesis (The means are different).\")\n",
    "    else:\n",
    "        print(\"Fail to reject the null hypothesis (The means are equal).\")\n",
    "        \n",
    "    print(f\"t-statistic: {t_statistic:.4f}\")\n",
    "    print(f\"p-value: {p_value:.4f}\")\n",
    "\n",
    "# Example usage with random samples\n",
    "sample1 = np.random.normal(loc=50, scale=10, size=30)\n",
    "sample2 = np.random.normal(loc=55, scale=12, size=30)\n",
    "alpha = 0.05\n",
    "\n",
    "two_sample_t_test(sample1, sample2, alpha)"
   ]
  },
  {
   "cell_type": "markdown",
   "id": "92d00057-634a-4d87-9cf3-ed4abf64af29",
   "metadata": {},
   "source": [
    "## Q11: What is Student’s t distribution? When to use the t-Distribution."
   ]
  },
  {
   "cell_type": "markdown",
   "id": "9268c4ad-8c4e-430b-9d9e-7221866cc853",
   "metadata": {},
   "source": [
    "#### Student's t-distribution, commonly known as the t-distribution, is a probability distribution that is used in hypothesis testing and confidence interval calculations when the sample size is small or when the population standard deviation is unknown."
   ]
  },
  {
   "cell_type": "markdown",
   "id": "4b6efe4d-33ac-4939-9c0b-0adbbd26d124",
   "metadata": {},
   "source": [
    "### When to use the t-Distribution:\n",
    "\n",
    "#### The t-distribution is used in the following scenarios:\n",
    "\n",
    "##### >Small Sample Size: When the sample size is small (typically less than 30), the t-distribution is more appropriate to use for hypothesis testing and constructing confidence intervals. In such cases, the t-distribution accounts for the increased uncertainty due to limited sample data.\n",
    "\n",
    "##### >Unknown Population Standard Deviation: If the population standard deviation is unknown, the t-distribution is used instead of the standard normal distribution. When the population standard deviation is unknown, we use the sample standard deviation to estimate it, which adds extra variability to the calculations.\n",
    "\n",
    "##### >Estimation and Inference: The t-distribution is commonly used when estimating population parameters (e.g., mean or difference of means) based on sample statistics. It provides a more accurate estimation when the sample size is small or the population standard deviation is unknown.\n",
    "\n",
    "##### >Comparing Means of Two Samples: When comparing the means of two independent samples, such as in a two-sample t-test, the t-distribution is used to account for the uncertainty in the sample means and to assess whether the difference between the means is statistically significant.\n",
    "\n",
    "##### >Quality Control and Process Control: In industries and manufacturing, the t-distribution is used for quality control purposes, especially when dealing with small sample sizes or unknown population parameters.\n",
    "\n",
    "##### >Statistical Analysis: The t-distribution is an essential tool in statistical analysis, especially in situations where the assumptions of the standard normal distribution are not met."
   ]
  },
  {
   "cell_type": "markdown",
   "id": "db00337c-7230-4e1e-801e-dc3628923158",
   "metadata": {},
   "source": [
    "## Q12: What is t-statistic? State the formula for t-statistic."
   ]
  },
  {
   "cell_type": "markdown",
   "id": "1f71be74-34a2-4896-b96c-8c8d66cb447e",
   "metadata": {},
   "source": [
    "#### T-statistic is a measure of how far a sample mean is from the population mean. It is a measure of how significant the difference between the sample mean and population mean is."
   ]
  },
  {
   "cell_type": "markdown",
   "id": "b8a02fe4-3f16-49bf-9aba-a910bc413441",
   "metadata": {},
   "source": [
    "#### t = (sample mean - population mean) / (standard deviation of the sample mean / sqrt(n))"
   ]
  },
  {
   "cell_type": "markdown",
   "id": "e4581bb2-daf4-4573-868d-ae3ed56b5d90",
   "metadata": {},
   "source": [
    "## Q13. A coffee shop owner wants to estimate the average daily revenue for their shop. They take a random sample of 50 days and find the sample mean revenue to be $500 with a standard deviation of $50. Estimate the population mean revenue with a 95% confidence interval."
   ]
  },
  {
   "cell_type": "code",
   "execution_count": 10,
   "id": "e42c3d16-c0c0-45cd-aca0-e0193abaecef",
   "metadata": {},
   "outputs": [
    {
     "name": "stdout",
     "output_type": "stream",
     "text": [
      "Estimated population mean revenue: $500.00\n",
      "95% Confidence Interval: $486.14 to $513.86\n"
     ]
    }
   ],
   "source": [
    "import numpy as np\n",
    "\n",
    "# Given data\n",
    "sample_mean = 500\n",
    "sample_std_dev = 50\n",
    "sample_size = 50\n",
    "confidence_level = 0.95\n",
    "\n",
    "# Calculate the critical value for a 95% confidence interval\n",
    "critical_value = 1.96\n",
    "\n",
    "# Calculate the standard error\n",
    "standard_error = sample_std_dev / np.sqrt(sample_size)\n",
    "\n",
    "# Calculate the lower and upper bounds of the confidence interval\n",
    "l_bound = sample_mean - critical_value * standard_error\n",
    "u_bound = sample_mean + critical_value * standard_error\n",
    "\n",
    "# Print the results\n",
    "print(f\"Estimated population mean revenue: ${sample_mean:.2f}\")\n",
    "print(f\"95% Confidence Interval: ${l_bound:.2f} to ${u_bound:.2f}\")\n"
   ]
  },
  {
   "cell_type": "markdown",
   "id": "c7e985e0-fc62-4b34-99e6-92f2559f7b49",
   "metadata": {},
   "source": [
    "## Q14. A researcher hypothesizes that a new drug will decrease blood pressure by 10 mmHg. They conduct a clinical trial with 100 patients and find that the sample mean decrease in blood pressure is 8 mmHg with a standard deviation of 3 mmHg. Test the hypothesis with a significance level of 0.05."
   ]
  },
  {
   "cell_type": "code",
   "execution_count": 11,
   "id": "b7069e27-98f6-482c-a7c5-71f1ae8669a6",
   "metadata": {},
   "outputs": [
    {
     "name": "stdout",
     "output_type": "stream",
     "text": [
      "Reject the null hypothesis. The new drug has a significant effect on decreasing blood pressure.\n",
      "t-statistic: -6.6667\n",
      "p-value: 0.0000\n"
     ]
    }
   ],
   "source": [
    "import numpy as np\n",
    "from scipy import stats\n",
    "\n",
    "# Given data\n",
    "sample_mean = 8\n",
    "hypothesized_mean = 10\n",
    "sample_std_dev = 3\n",
    "sample_size = 100\n",
    "significance_level = 0.05\n",
    "\n",
    "# Calculate the t-statistic\n",
    "t_statistic = (sample_mean - hypothesized_mean) / (sample_std_dev / np.sqrt(sample_size))\n",
    "\n",
    "# Calculate the degrees of freedom\n",
    "degrees_of_freedom = sample_size - 1\n",
    "\n",
    "# Calculate the critical t-value for a two-tailed test at 0.05 significance level\n",
    "critical_t_value = stats.t.ppf(1 - significance_level / 2, degrees_of_freedom)\n",
    "\n",
    "# Calculate the p-value (two-tailed test)\n",
    "p_value = 2 * (1 - stats.t.cdf(np.abs(t_statistic), degrees_of_freedom))\n",
    "\n",
    "# Make a decision\n",
    "if np.abs(t_statistic) > critical_t_value:\n",
    "    print(\"Reject the null hypothesis. The new drug has a significant effect on decreasing blood pressure.\")\n",
    "else:\n",
    "    print(\"Fail to reject the null hypothesis. The new drug does not have a significant effect on decreasing blood pressure.\")\n",
    "\n",
    "print(f\"t-statistic: {t_statistic:.4f}\")\n",
    "print(f\"p-value: {p_value:.4f}\")\n"
   ]
  },
  {
   "cell_type": "markdown",
   "id": "bcebaacd-5e9f-4bc8-b333-94caab23cb89",
   "metadata": {},
   "source": [
    "## Q15. An electronics company produces a certain type of product with a mean weight of 5 pounds and a standard deviation of 0.5 pounds. A random sample of 25 products is taken, and the sample mean weight is found to be 4.8 pounds. Test the hypothesis that the true mean weight of the products is less than 5 pounds with a significance level of 0.01."
   ]
  },
  {
   "cell_type": "code",
   "execution_count": 12,
   "id": "e89a9b25-165a-4d79-89ae-318ef61f0c7f",
   "metadata": {},
   "outputs": [
    {
     "name": "stdout",
     "output_type": "stream",
     "text": [
      "Fail to reject the null hypothesis. The true mean weight of the products is not less than 5 pounds.\n",
      "t-statistic: -2.0000\n",
      "p-value: 0.0285\n"
     ]
    }
   ],
   "source": [
    "import numpy as np\n",
    "from scipy import stats\n",
    "\n",
    "# Given data\n",
    "sample_mean = 4.8\n",
    "hypothesized_mean = 5\n",
    "sample_std_dev = 0.5\n",
    "sample_size = 25\n",
    "significance_level = 0.01\n",
    "\n",
    "# Calculate the t-statistic\n",
    "t_statistic = (sample_mean - hypothesized_mean) / (sample_std_dev / np.sqrt(sample_size))\n",
    "\n",
    "# Calculate the degrees of freedom\n",
    "degrees_of_freedom = sample_size - 1\n",
    "\n",
    "# Calculate the critical t-value for a left-tailed test at 0.01 significance level\n",
    "critical_t_value = stats.t.ppf(significance_level, degrees_of_freedom)\n",
    "\n",
    "# Calculate the p-value (left-tailed test)\n",
    "p_value = stats.t.cdf(t_statistic, degrees_of_freedom)\n",
    "\n",
    "# Make a decision\n",
    "if t_statistic < critical_t_value:\n",
    "    print(\"Reject the null hypothesis. The true mean weight of the products is less than 5 pounds.\")\n",
    "else:\n",
    "    print(\"Fail to reject the null hypothesis. The true mean weight of the products is not less than 5 pounds.\")\n",
    "\n",
    "print(f\"t-statistic: {t_statistic:.4f}\")\n",
    "print(f\"p-value: {p_value:.4f}\")\n"
   ]
  },
  {
   "cell_type": "markdown",
   "id": "1f582164-155b-408f-a207-7216584bdbc0",
   "metadata": {},
   "source": [
    "## Q16. Two groups of students are given different study materials to prepare for a test. The first group (n1 = 30) has a mean score of 80 with a standard deviation of 10, and the second group (n2 = 40) has a mean score of 75 with a standard deviation of 8. Test the hypothesis that the population means for the two groups are equal with a significance level of 0.01."
   ]
  },
  {
   "cell_type": "code",
   "execution_count": 13,
   "id": "c9190dc4-7f92-4adf-8c9c-1aa82bd51167",
   "metadata": {},
   "outputs": [
    {
     "name": "stdout",
     "output_type": "stream",
     "text": [
      "Fail to reject the null hypothesis. The population means for the two groups are equal.\n",
      "t-statistic: 2.3240\n",
      "p-value: 0.0231\n"
     ]
    }
   ],
   "source": [
    "import numpy as np\n",
    "from scipy import stats\n",
    "\n",
    "# Given data for Group 1\n",
    "sample_mean1 = 80\n",
    "sample_std_dev1 = 10\n",
    "sample_size1 = 30\n",
    "\n",
    "# Given data for Group 2\n",
    "sample_mean2 = 75\n",
    "sample_std_dev2 = 8\n",
    "sample_size2 = 40\n",
    "\n",
    "# Significance level\n",
    "significance_level = 0.01\n",
    "\n",
    "# Calculate the pooled standard deviation\n",
    "pooled_std_dev = np.sqrt(((sample_size1 - 1) * sample_std_dev1**2 + (sample_size2 - 1) * sample_std_dev2**2) / (sample_size1 + sample_size2 - 2))\n",
    "\n",
    "# Calculate the t-statistic\n",
    "t_statistic = (sample_mean1 - sample_mean2) / (pooled_std_dev * np.sqrt(1/sample_size1 + 1/sample_size2))\n",
    "\n",
    "# Calculate the degrees of freedom\n",
    "degrees_of_freedom = sample_size1 + sample_size2 - 2\n",
    "\n",
    "# Calculate the critical t-value for a two-tailed test at 0.01 significance level\n",
    "critical_t_value = stats.t.ppf(1 - significance_level / 2, degrees_of_freedom)\n",
    "\n",
    "# Calculate the p-value (two-tailed test)\n",
    "p_value = 2 * (1 - stats.t.cdf(np.abs(t_statistic), degrees_of_freedom))\n",
    "\n",
    "# Make a decision\n",
    "if np.abs(t_statistic) > critical_t_value:\n",
    "    print(\"Reject the null hypothesis. The population means for the two groups are different.\")\n",
    "else:\n",
    "    print(\"Fail to reject the null hypothesis. The population means for the two groups are equal.\")\n",
    "\n",
    "print(f\"t-statistic: {t_statistic:.4f}\")\n",
    "print(f\"p-value: {p_value:.4f}\")\n"
   ]
  },
  {
   "cell_type": "markdown",
   "id": "873d8b8a-d2a8-4435-aeba-27106dc576fe",
   "metadata": {},
   "source": [
    "## Q17. A marketing company wants to estimate the average number of ads watched by viewers during a TV program. They take a random sample of 50 viewers and find that the sample mean is 4 with a standard deviation of 1.5. Estimate the population mean with a 99% confidence interval."
   ]
  },
  {
   "cell_type": "code",
   "execution_count": 14,
   "id": "6d9586a3-cd76-4373-a9da-a049ebffd137",
   "metadata": {},
   "outputs": [
    {
     "name": "stdout",
     "output_type": "stream",
     "text": [
      "Estimated population mean number of ads watched: 4.00\n",
      "99% Confidence Interval: 3.44 to 4.56\n"
     ]
    }
   ],
   "source": [
    "import numpy as np\n",
    "\n",
    "# Given data\n",
    "sample_mean = 4\n",
    "sample_std_dev = 1.5\n",
    "sample_size = 50\n",
    "confidence_level = 0.99\n",
    "\n",
    "# Calculate the critical value for a 99% confidence interval\n",
    "critical_value = 2.626\n",
    "\n",
    "# Calculate the standard error\n",
    "standard_error = sample_std_dev / np.sqrt(sample_size)\n",
    "\n",
    "# Calculate the lower and upper bounds of the confidence interval\n",
    "lower_bound = sample_mean - critical_value * standard_error\n",
    "upper_bound = sample_mean + critical_value * standard_error\n",
    "\n",
    "# Print the results\n",
    "print(f\"Estimated population mean number of ads watched: {sample_mean:.2f}\")\n",
    "print(f\"99% Confidence Interval: {lower_bound:.2f} to {upper_bound:.2f}\")\n"
   ]
  },
  {
   "cell_type": "code",
   "execution_count": null,
   "id": "7087c0df-7c18-43c5-b764-607709f34709",
   "metadata": {},
   "outputs": [],
   "source": []
  }
 ],
 "metadata": {
  "kernelspec": {
   "display_name": "Python 3 (ipykernel)",
   "language": "python",
   "name": "python3"
  },
  "language_info": {
   "codemirror_mode": {
    "name": "ipython",
    "version": 3
   },
   "file_extension": ".py",
   "mimetype": "text/x-python",
   "name": "python",
   "nbconvert_exporter": "python",
   "pygments_lexer": "ipython3",
   "version": "3.10.8"
  }
 },
 "nbformat": 4,
 "nbformat_minor": 5
}
