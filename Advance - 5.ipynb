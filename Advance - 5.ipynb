{
 "cells": [
  {
   "cell_type": "markdown",
   "id": "bf688a80-cc8c-40c2-94a4-34dd8fcd373e",
   "metadata": {},
   "source": [
    "## Q1. Calculate the 95% confidence interval for a sample of data with a mean of 50 and a standard deviation of 5 using Python. Interpret the results."
   ]
  },
  {
   "cell_type": "code",
   "execution_count": 1,
   "id": "fa4783a5-8f5f-4873-b3ca-381fc031e397",
   "metadata": {},
   "outputs": [],
   "source": [
    "import scipy.stats as stats"
   ]
  },
  {
   "cell_type": "code",
   "execution_count": 11,
   "id": "6c645c38-7cc0-4c4e-be75-54d2617c3528",
   "metadata": {},
   "outputs": [
    {
     "name": "stdout",
     "output_type": "stream",
     "text": [
      "95% Confidence Imterval: (45.61738729711709, 54.38261270288291)\n"
     ]
    }
   ],
   "source": [
    "#Given Data\n",
    "mean = 50\n",
    "std_dev = 5\n",
    "confidence_level = 0.95\n",
    "sample_size = 5\n",
    "\n",
    "#calculate the standard error of mean \n",
    "std_error = std_dev / (sample_size ** 0.5)\n",
    "\n",
    "#calculate the margin of error\n",
    "margin_of_error = stats.norm.ppf((1 + confidence_level) / 2) * std_error\n",
    "\n",
    "#calculate the confidence interval\n",
    "l_bond = mean - margin_of_error\n",
    "u_bound = mean + margin_of_error\n",
    "\n",
    "print(\"95% Confidence Imterval:\" , (l_bond, u_bound))"
   ]
  },
  {
   "cell_type": "markdown",
   "id": "019348f7-539b-4604-a6dd-8d414032b55a",
   "metadata": {},
   "source": [
    "## Q2. Conduct a chi-square goodness of fit test to determine if the distribution of colors of M&Ms in a bag matches the expected distribution of 20% blue, 20% orange, 20% green, 10% yellow, 10% red, and 20% brown. Use Python to perform the test with a significance level of 0.05."
   ]
  },
  {
   "cell_type": "code",
   "execution_count": 19,
   "id": "1d9ac39f-0c74-4bc6-8809-6aaee2878541",
   "metadata": {},
   "outputs": [
    {
     "name": "stdout",
     "output_type": "stream",
     "text": [
      "Chi-Square Statistic: 6.115384615384615\n",
      "p-value: 0.2951528880270697\n",
      "Fail to reject the null hypothesis: The distribution matches the expected distribution.\n"
     ]
    }
   ],
   "source": [
    "import scipy.stats as stats\n",
    "\n",
    "# Example observed counts as strings\n",
    "observed_counts_str = [\"b\", \"o\", \"g\", \"y\", \"r\", \"b\"]\n",
    "\n",
    "#mapping of color abbreviations to counts\n",
    "color_count_mapping = {\n",
    "    \"b\": 1,  # Replace with actual counts\n",
    "    \"o\": 2,\n",
    "    \"g\": 3,\n",
    "    \"y\": 4,\n",
    "    \"r\": 5,\n",
    "    \"b\": 6\n",
    "}\n",
    "\n",
    "#convert observed counts from strings to integers using mapping\n",
    "observed_counts = [color_count_mapping[count_str] for count_str in observed_counts_str]\n",
    "\n",
    "#expected frequencies based on the expected distribution\n",
    "expected_distribution = [0.20, 0.20, 0.20, 0.10, 0.10, 0.20]\n",
    "total_count = sum(observed_counts)\n",
    "expected_counts = [expected_prob * total_count for expected_prob in expected_distribution]\n",
    "\n",
    "#perform the chi-square goodness of fit test\n",
    "chi_stat, p_value = stats.chisquare(observed_counts, f_exp=expected_counts)\n",
    "\n",
    "#Significance level\n",
    "alpha = 0.05\n",
    "\n",
    "print(\"Chi-Square Statistic:\", chi_stat)\n",
    "print(\"p-value:\", p_value)\n",
    "\n",
    "if p_value < alpha:\n",
    "    print(\"Reject the null hypothesis: The distribution does not match the expected distribution.\")\n",
    "else:\n",
    "    print(\"Fail to reject the null hypothesis: The distribution matches the expected distribution.\")\n"
   ]
  },
  {
   "cell_type": "markdown",
   "id": "203e408c-33fc-4023-b71d-7426532e5813",
   "metadata": {},
   "source": [
    "## Q3. Use Python to calculate the chi-square statistic and p-value for a contingency table with the following data:\n",
    "\n",
    ">                      Group A   Group B\n",
    "\n",
    ">       Outcome 1          20        15\n",
    "\n",
    ">       Outcome 2          10        25\n",
    "\n",
    ">       Outcome 3          15        20"
   ]
  },
  {
   "cell_type": "code",
   "execution_count": 21,
   "id": "8676cf75-37f6-419c-9c89-ebc5294351f2",
   "metadata": {},
   "outputs": [
    {
     "name": "stdout",
     "output_type": "stream",
     "text": [
      "Chi-Square Statistic: 5.833333333333334\n",
      "p-value: 0.05411376622282158\n",
      "Fail to reject the null hypothesis: There is no significant association between the groups and outcomes.\n"
     ]
    }
   ],
   "source": [
    "import numpy as np\n",
    "import scipy.stats as stats\n",
    "\n",
    "#Create the contingency table\n",
    "contingency_table = np.array([[20, 15], [10, 25], [15, 20]])\n",
    "\n",
    "#Calculate the chi-square statistic and p-value\n",
    "chi2_stat, p_value, dof, expected = stats.chi2_contingency(contingency_table)\n",
    "\n",
    "print(\"Chi-Square Statistic:\", chi2_stat)\n",
    "print(\"p-value:\", p_value)\n",
    "\n",
    "alpha = 0.05  #Significance level\n",
    "\n",
    "if p_value < alpha:\n",
    "    print(\"Reject the null hypothesis: There is a significant association between the groups and outcomes.\")\n",
    "else:\n",
    "    print(\"Fail to reject the null hypothesis: There is no significant association between the groups and outcomes.\")"
   ]
  },
  {
   "cell_type": "markdown",
   "id": "237d62cf-0bd4-4f54-a91f-d9e12e824dd3",
   "metadata": {},
   "source": [
    "## Q4. A study of the prevalence of smoking in a population of 500 individuals found that 60 individuals smoked. Use Python to calculate the 95% confidence interval for the true proportion of individuals in the population who smoke."
   ]
  },
  {
   "cell_type": "code",
   "execution_count": 23,
   "id": "7630c24d-a09f-4540-81ef-9db3581fe55e",
   "metadata": {},
   "outputs": [],
   "source": [
    "import scipy.stats as stats\n",
    "import math\n",
    "\n",
    "sample_size = 500\n",
    "observed_count = 60\n",
    "confidence_level = 0.95"
   ]
  },
  {
   "cell_type": "code",
   "execution_count": 25,
   "id": "b8279810-0be1-40aa-a902-90a3c512a4fa",
   "metadata": {},
   "outputs": [],
   "source": [
    "#Calculate the sample proportion\n",
    "sample_proportion = observed_count / sample_size\n",
    "\n",
    "#Calculate the standard error of the proportion\n",
    "std_error = math.sqrt((sample_proportion * (1 - sample_proportion)) / sample_size)\n",
    "\n",
    "#Calculate the margin of error\n",
    "margin_of_error = stats.norm.ppf((1 + confidence_level) / 2) * std_error"
   ]
  },
  {
   "cell_type": "code",
   "execution_count": 26,
   "id": "cfd9962c-8b3d-492a-ba00-8c176e42a019",
   "metadata": {},
   "outputs": [
    {
     "name": "stdout",
     "output_type": "stream",
     "text": [
      "95% Confidence Interval: (0.09151638887130707, 0.1484836111286929)\n"
     ]
    }
   ],
   "source": [
    "#Calculate the confidence interval\n",
    "lower_bound = sample_proportion - margin_of_error\n",
    "upper_bound = sample_proportion + margin_of_error\n",
    "\n",
    "print(\"95% Confidence Interval:\", (lower_bound, upper_bound))"
   ]
  },
  {
   "cell_type": "markdown",
   "id": "ec0cbce2-7bb6-4eae-b36c-56c8b02fab39",
   "metadata": {},
   "source": [
    "## Q5. Calculate the 90% confidence interval for a sample of data with a mean of 75 and a standard deviation of 12 using Python. Interpret the results."
   ]
  },
  {
   "cell_type": "code",
   "execution_count": 1,
   "id": "c2b628b4-3aaf-4eb6-99ed-1c562e763c53",
   "metadata": {},
   "outputs": [
    {
     "name": "stdout",
     "output_type": "stream",
     "text": [
      "Confidence Interval: (73.02617564765823, 76.97382435234177)\n"
     ]
    }
   ],
   "source": [
    "import scipy.stats as stats\n",
    "\n",
    "sample_mean = 75\n",
    "sample_std_dev = 12\n",
    "confidence_level = 0.90\n",
    "sample_size = 100  #We need to specify the sample size\n",
    "\n",
    "#calculate the margin of error\n",
    "margin_of_error = stats.norm.ppf(1 - (1 - confidence_level) / 2) * (sample_std_dev / sample_size**0.5)\n",
    "\n",
    "#calculate the confidence interval\n",
    "lower_bound = sample_mean - margin_of_error\n",
    "upper_bound = sample_mean + margin_of_error\n",
    "\n",
    "print(\"Confidence Interval:\", (lower_bound, upper_bound))\n"
   ]
  },
  {
   "cell_type": "markdown",
   "id": "739b4641-6ab3-4060-a002-eb430ff50d4c",
   "metadata": {},
   "source": [
    "## Q6. Use Python to plot the chi-square distribution with 10 degrees of freedom. Label the axes and shade the area corresponding to a chi-square statistic of 15."
   ]
  },
  {
   "cell_type": "code",
   "execution_count": 2,
   "id": "78bcec44-b5b4-48dc-96cd-120e99c8d31d",
   "metadata": {},
   "outputs": [
    {
     "data": {
      "image/png": "[encoded data removed]",
      "text/plain": [
       "<Figure size 1000x600 with 1 Axes>"
      ]
     },
     "metadata": {},
     "output_type": "display_data"
    }
   ],
   "source": [
    "import numpy as np\n",
    "import matplotlib.pyplot as plt\n",
    "import scipy.stats as stats\n",
    "\n",
    "#degrees of freedom\n",
    "df = 10\n",
    "\n",
    "#create a range of chi-square values\n",
    "x = np.linspace(0, 30, 500)\n",
    "\n",
    "#calculate the chi-square probability density function (PDF)\n",
    "pdf = stats.chi2.pdf(x, df)\n",
    "\n",
    "#create the plot\n",
    "plt.figure(figsize=(10, 6))\n",
    "plt.plot(x, pdf, label=f\"Chi-square with {df} degrees of freedom\")\n",
    "plt.xlabel(\"Chi-square Value\")\n",
    "plt.ylabel(\"Probability Density\")\n",
    "plt.title(f\"Chi-square Distribution with {df} Degrees of Freedom\")\n",
    "plt.axvline(x=15, color='red', linestyle='--', label=\"Chi-square = 15\")\n",
    "plt.fill_between(x, pdf, where=(x >= 15), color='red', alpha=0.3)\n",
    "plt.legend()\n",
    "plt.grid()\n",
    "plt.show()"
   ]
  },
  {
   "cell_type": "markdown",
   "id": "b333f42d-ede7-4a13-97ee-b8f153dafdad",
   "metadata": {},
   "source": [
    "## Q7. A random sample of 1000 people was asked if they preferred Coke or Pepsi. Of the sample, 520 preferred Coke. Calculate a 99% confidence interval for the true proportion of people in the population who prefer Coke."
   ]
  },
  {
   "cell_type": "code",
   "execution_count": 10,
   "id": "c8c1ee1b-5a71-4dad-afcd-94c3c8f3667e",
   "metadata": {},
   "outputs": [
    {
     "name": "stdout",
     "output_type": "stream",
     "text": [
      "Confidence Interval: (0.4793051576779699, 0.5606948423220302)\n"
     ]
    }
   ],
   "source": [
    "import scipy.stats as stats\n",
    "\n",
    "sample_size = 1000\n",
    "preferred_coke = 520\n",
    "confidence_level = 0.99\n",
    "\n",
    "#calculate the sample proportion\n",
    "sample_proportion = preferred_coke / sample_size\n",
    "\n",
    "#calculate the standard error\n",
    "standard_error = (sample_proportion * (1 - sample_proportion) / sample_size)**0.5\n",
    "\n",
    "#calculate the z-score for the given confidence level\n",
    "z_score = stats.norm.ppf(1 - (1 - confidence_level) / 2)\n",
    "\n",
    "#calculate the margin of error\n",
    "margin_of_error = z_score * standard_error\n",
    "\n",
    "#calculate the confidence interval\n",
    "lower_bound = sample_proportion - margin_of_error\n",
    "upper_bound = sample_proportion + margin_of_error\n",
    "\n",
    "print(\"Confidence Interval:\", (lower_bound, upper_bound))\n"
   ]
  },
  {
   "cell_type": "markdown",
   "id": "7337f097-275e-4c6d-acdb-ba64422c9e05",
   "metadata": {},
   "source": [
    "## Q8. A researcher hypothesizes that a coin is biased towards tails. They flip the coin 100 times and observe 45 tails. Conduct a chi-square goodness of fit test to determine if the observed frequencies match the expected frequencies of a fair coin. Use a significance level of 0.05."
   ]
  },
  {
   "cell_type": "code",
   "execution_count": 8,
   "id": "6209c9ca-543f-45aa-80e8-83364dc3e5e8",
   "metadata": {},
   "outputs": [
    {
     "name": "stdout",
     "output_type": "stream",
     "text": [
      "Chi-square Statistic: 1.0\n",
      "p-value: 0.31731050786291115\n",
      "Fail to reject the null hypothesis: The coin is fair.\n"
     ]
    }
   ],
   "source": [
    "import scipy.stats as stats\n",
    "\n",
    "observed_tails = 45\n",
    "total_flips = 100\n",
    "expected_tails = total_flips / 2  #Assuming a fair coin\n",
    "\n",
    "significance_level = 0.05\n",
    "\n",
    "#Calculate the observed and expected frequencies\n",
    "observed_frequencies = [observed_tails, total_flips - observed_tails]\n",
    "expected_frequencies = [expected_tails, total_flips - expected_tails]\n",
    "\n",
    "#Perform the chi-square goodness of fit test\n",
    "chi_statistic, p_value = stats.chisquare(observed_frequencies, expected_frequencies)\n",
    "\n",
    "print(\"Chi-square Statistic:\", chi_statistic)\n",
    "print(\"p-value:\", p_value)\n",
    "\n",
    "if p_value < significance_level:\n",
    "    print(\"Reject the null hypothesis: The coin is biased towards tails.\")\n",
    "else:\n",
    "    print(\"Fail to reject the null hypothesis: The coin is fair.\")\n"
   ]
  },
  {
   "cell_type": "markdown",
   "id": "89f357b9-4561-4bfd-b91e-a05ef7e68d1c",
   "metadata": {},
   "source": [
    "## Q9. A study was conducted to determine if there is an association between smoking status (smoker or non-smoker) and lung cancer diagnosis (yes or no). The results are shown in the contingency table below. Conduct a chi-square test for independence to determine if there is a significant association between smoking status and lung cancer diagnosis.\n",
    "\n",
    "\n",
    ">                     Lung Cancer: Yes  Lung Cancer: No\n",
    "\n",
    ">       Smoker            60               140\n",
    "\n",
    ">       Non-smoker        30               170\n",
    "\n",
    "        "
   ]
  },
  {
   "cell_type": "code",
   "execution_count": 11,
   "id": "f9de9cfc-08c9-4a86-8d36-93ffb09e4028",
   "metadata": {},
   "outputs": [
    {
     "name": "stdout",
     "output_type": "stream",
     "text": [
      "Chi-square Statistic: 12.057347670250895\n",
      "p-value: 0.0005158863863703744\n",
      "Degrees of Freedom: 1\n",
      "Expected Frequencies:\n",
      " [[ 45. 155.]\n",
      " [ 45. 155.]]\n",
      "Reject the null hypothesis: There is a significant association between smoking status and lung cancer diagnosis.\n"
     ]
    }
   ],
   "source": [
    "import scipy.stats as stats\n",
    "\n",
    "#Contingency table\n",
    "observed = [[60, 140],\n",
    "            [30, 170]]\n",
    "\n",
    "#Perform the chi-square test for independence\n",
    "chi2_statistic, p_value, dof, expected = stats.chi2_contingency(observed)\n",
    "\n",
    "print(\"Chi-square Statistic:\", chi2_statistic)\n",
    "print(\"p-value:\", p_value)\n",
    "print(\"Degrees of Freedom:\", dof)\n",
    "print(\"Expected Frequencies:\\n\", expected)\n",
    "\n",
    "alpha = 0.05 #significance level\n",
    "\n",
    "if p_value < alpha:\n",
    "    print(\"Reject the null hypothesis: There is a significant association between smoking status and lung cancer diagnosis.\")\n",
    "else:\n",
    "    print(\"Fail to reject the null hypothesis: There is no significant association.\")\n"
   ]
  },
  {
   "cell_type": "markdown",
   "id": "0b3f498d-96c1-41ed-842b-227f3915cebb",
   "metadata": {},
   "source": [
    "## Q10. A study was conducted to determine if the proportion of people who prefer milk chocolate, dark chocolate, or white chocolate is different in the U.S. versus the U.K. A random sample of 500 people from the U.S. and a random sample of 500 people from the U.K. were surveyed. The results are shown in the contingency table below. Conduct a chi-square test for independence to determine if there is a significant association between chocolate preference and country of origin.\n",
    "\n",
    ">                     Milk Chocolate  Dark Chocolate White Chocolate\n",
    "\n",
    ">       U.S.(n=500)           200             150        150\n",
    "\n",
    ">       U.K.(n=500)           225             175        100\n",
    "\n",
    "## Use a significance level of 0.01."
   ]
  },
  {
   "cell_type": "code",
   "execution_count": 13,
   "id": "141198df-710c-4541-96a0-6e43f5a5d24e",
   "metadata": {},
   "outputs": [
    {
     "name": "stdout",
     "output_type": "stream",
     "text": [
      "Chi-square Statistic: 13.393665158371041\n",
      "p-value: 0.0012348168997745918\n",
      "Degrees of Freedom: 2\n",
      "Expected Frequencies:\n",
      " [[212.5 162.5 125. ]\n",
      " [212.5 162.5 125. ]]\n",
      "Reject the null hypothesis: There is a significant association between chocolate preference and country of origin.\n"
     ]
    }
   ],
   "source": [
    "import scipy.stats as stats\n",
    "\n",
    "#Contingency table\n",
    "observed = [[200, 150, 150],\n",
    "            [225, 175, 100]]\n",
    "\n",
    "#Perform the chi-square test for independence\n",
    "chi2_statistic, p_value, dof, expected = stats.chi2_contingency(observed)\n",
    "\n",
    "print(\"Chi-square Statistic:\", chi2_statistic)\n",
    "print(\"p-value:\", p_value)\n",
    "print(\"Degrees of Freedom:\", dof)\n",
    "print(\"Expected Frequencies:\\n\", expected)\n",
    "\n",
    "alpha = 0.01\n",
    "\n",
    "if p_value < alpha:\n",
    "    print(\"Reject the null hypothesis: There is a significant association between chocolate preference and country of origin.\")\n",
    "else:\n",
    "    print(\"Fail to reject the null hypothesis: There is no significant association.\")\n"
   ]
  },
  {
   "cell_type": "markdown",
   "id": "b4ad4f64-cdb6-4b1d-b688-14c3d7bf0f75",
   "metadata": {},
   "source": [
    "## Q11. A random sample of 30 people was selected from a population with an unknown mean and standard deviation. The sample mean was found to be 72 and the sample standard deviation was found to be 10. Conduct a hypothesis test to determine if the population mean is significantly different from 70. Use a significance level of 0.05."
   ]
  },
  {
   "cell_type": "code",
   "execution_count": null,
   "id": "ca1c20d7-a627-4baa-97bc-77014c698872",
   "metadata": {},
   "outputs": [],
   "source": []
  }
 ],
 "metadata": {
  "kernelspec": {
   "display_name": "Python 3 (ipykernel)",
   "language": "python",
   "name": "python3"
  },
  "language_info": {
   "codemirror_mode": {
    "name": "ipython",
    "version": 3
   },
   "file_extension": ".py",
   "mimetype": "text/x-python",
   "name": "python",
   "nbconvert_exporter": "python",
   "pygments_lexer": "ipython3",
   "version": "3.10.8"
  }
 },
 "nbformat": 4,
 "nbformat_minor": 5
}
