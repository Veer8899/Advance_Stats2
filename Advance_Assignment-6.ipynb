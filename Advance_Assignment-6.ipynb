{
 "cells": [
  {
   "cell_type": "markdown",
   "id": "038639f0-e8e5-47fa-b5d1-3d247919429a",
   "metadata": {},
   "source": [
    "## Q1. Explain the assumptions required to use ANOVA and provide examples of violations that could impact the validity of the results."
   ]
  },
  {
   "cell_type": "markdown",
   "id": "bb0006ce-4888-47a5-88b8-73230adaccc9",
   "metadata": {},
   "source": [
    "#### >Normality of sampling distribution of means : The distribution of sample mean is normally distributed.\n",
    "#### >Absence of outliers: Outlying score need to be romed from dataset.\n",
    "#### >Homegety of variance: Each one of the population has same variance.\n",
    "#### >Samples are independent and random: The value of an observation in one group does not affect or influence the value of an observation in another group."
   ]
  },
  {
   "cell_type": "markdown",
   "id": "cd1999d9-1abd-42fa-9f9e-ee24b01a0759",
   "metadata": {},
   "source": [
    "### Examples of violations for each assumption and how they could impact the validity of ANOVA results:"
   ]
  },
  {
   "cell_type": "markdown",
   "id": "ef101f09-f8ac-4fee-99d7-985aa9b544f3",
   "metadata": {},
   "source": [
    "#### 1. Violation of Independence Assumption:\n",
    "Assumption: Observations are independent of each other.\n",
    "##### Example: Conducting a study on the impact of a new teaching method on student performance, but using data from multiple students within the same classroom. The scores of students within the same class may be correlated due to shared factors like the teacher's teaching style.\n",
    "\n",
    "Impact: Violation of independence can lead to incorrect standard errors, inflated Type I error rates, and biased parameter estimates. The results may appear more significant than they actually are.\n",
    "\n",
    "#### 2. Violation of Normality Assumption:\n",
    "Assumption: The residuals or errors are normally distributed.\n",
    "##### Example: Analyzing exam scores of students, and the residuals of the regression model are skewed or exhibit heavy tails.\n",
    "\n",
    "Impact: Non-normality can affect the accuracy of p-values, confidence intervals, and hypothesis tests. Statistical inferences based on these assumptions may be unreliable.\n",
    "\n",
    "#### 3. Violation of Homoscedasticity Assumption:\n",
    "Assumption: The variance of the residuals is constant across all levels of the independent variable(s).\n",
    "##### Example: Comparing the heights of plants under different light conditions, and the spread of the residuals increases as the light intensity increases.\n",
    "\n",
    "Impact: Violation of homoscedasticity can lead to incorrect standard errors, biased parameter estimates, and inaccurate p-values. Confidence intervals and hypothesis tests may be compromised."
   ]
  },
  {
   "cell_type": "markdown",
   "id": "65d58d9c-7575-4d79-8979-596c1260846b",
   "metadata": {},
   "source": [
    "#### 4. Violation of Absence of Outliers Assumption:\n",
    "Assumption: There are no extreme outliers in the data.\n",
    "##### Example: Analyzing survey responses on income levels, and one respondent reports an unusually high income far beyond the typical range.\n",
    "\n",
    "Impact: Outliers can skew the means, distort variances, and impact the overall distribution. This can lead to incorrect significance tests and biased conclusions."
   ]
  },
  {
   "cell_type": "markdown",
   "id": "e7e52aae-887f-4f95-919f-e7d3902cf7f3",
   "metadata": {},
   "source": [
    "## Q2. What are the three types of ANOVA, and in what situations would each be used?"
   ]
  },
  {
   "cell_type": "markdown",
   "id": "5e3b8a32-fb09-4554-bef3-9c94c5b73d48",
   "metadata": {},
   "source": [
    "#### 1. One-Way ANOVA:\n",
    "One-Way ANOVA is used when you have one categorical independent variable (also known as a factor) with three or more levels or groups, and you want to determine if there are any statistically significant differences in means among these groups."
   ]
  },
  {
   "cell_type": "markdown",
   "id": "87832210-eb53-41f2-84f2-b24f2d8c362a",
   "metadata": {},
   "source": [
    "#### 2. Repeated Measures ANOVA:\n",
    "Repeated Measures ANOVA is used when you have a design in which the same subjects are measured multiple times under different conditions or at different time points. "
   ]
  },
  {
   "cell_type": "markdown",
   "id": "4618de89-954b-4b67-a9b3-ac04cca855d7",
   "metadata": {},
   "source": [
    "#### 3. Factorial ANOVA:\n",
    "Factorial ANOVA is used when you have two independent variables (factors), and you want to examine their individual and interactive effects on a dependent variable. It allows you to analyze the effects of each factor independently as well as their combined effects."
   ]
  },
  {
   "cell_type": "markdown",
   "id": "54c1e5c2-55b5-48e3-8aed-b5aa4571a113",
   "metadata": {},
   "source": [
    "## Q3. What is the partitioning of variance in ANOVA, and why is it important to understand this concept?"
   ]
  },
  {
   "cell_type": "markdown",
   "id": "6948ceda-7cec-45bf-97c1-a0a45f6cc8b1",
   "metadata": {},
   "source": [
    "#### The partitioning of variance refers to the division of the total variance observed in a dataset into different components that can be attributed to specific sources of variation. ANOVA is a statistical technique used to compare means among two or more groups and determine if there are significant differences between them."
   ]
  },
  {
   "cell_type": "markdown",
   "id": "3fdf9bf0-884e-4af8-84c1-865f095d4a2f",
   "metadata": {},
   "source": [
    "### It is important to understand this concept because: \n",
    "#### >Hypothesis Testing: ANOVA helps researchers determine if there are statistically significant differences among the means of different groups. By partitioning the variance into between-groups and within-groups components, ANOVA provides a way to assess whether the observed differences between groups are likely due to actual treatment effects or are simply a result of random variability.\n",
    "\n",
    "#### >Interpretation: The partitioning of variance allows researchers to interpret the proportion of total variability that can be explained by the differences between groups (between-groups variance) as opposed to the variability within each group (within-groups variance).\n",
    "\n",
    "#### >Effect Size: ANOVA's partitioning of variance can be used to calculate effect size measures such as eta-squared or partial eta-squared. These measures quantify the proportion of variability in the dependent variable that can be attributed to the independent variable, providing insights into the practical significance of the observed differences.\n",
    "\n",
    "#### >Experimental Design: Understanding the partitioning of variance can help researchers design experiments more effectively. By controlling and minimizing within-groups variability and maximizing between-groups variability, researchers can increase the sensitivity of their study to detect meaningful treatment effects.\n",
    "\n",
    "#### >Model Assessment: ANOVA's partitioning of variance is also crucial for assessing the adequacy of the statistical model. It helps researchers evaluate whether the model adequately explains the observed variation and whether any additional factors should be considered."
   ]
  },
  {
   "cell_type": "markdown",
   "id": "70c10e04-aed4-456a-b8be-8c398066252f",
   "metadata": {},
   "source": [
    "## Q4. How would you calculate the total sum of squares (SST), explained sum of squares (SSE), and residual sum of squares (SSR) in a one-way ANOVA using Python?"
   ]
  },
  {
   "cell_type": "code",
   "execution_count": 1,
   "id": "dd22dad3-8791-44ef-9c09-e3d2cf0bdc8c",
   "metadata": {},
   "outputs": [
    {
     "name": "stdout",
     "output_type": "stream",
     "text": [
      "Total Sum of Squares (SST): 2333.333333333333\n",
      "Explained Sum of Squares (SSE): 1583.3333333333333\n",
      "Residual Sum of Squares (SSR): 749.9999999999998\n"
     ]
    }
   ],
   "source": [
    "import numpy as np\n",
    "from scipy import stats\n",
    "\n",
    "#Example data for three groups\n",
    "group1 = np.array([25, 30, 35, 40, 45])\n",
    "group2 = np.array([15, 20, 25, 30, 35])\n",
    "group3 = np.array([40, 45, 50, 55, 60])\n",
    "\n",
    "#Combine the data into a single array\n",
    "data = np.concatenate([group1,group2,group3])\n",
    "\n",
    "#Calculate overall mean\n",
    "mean = np.mean(data)\n",
    "\n",
    "#Calculate group means\n",
    "group1_mean = np.mean(group1)\n",
    "group2_mean = np.mean(group2)\n",
    "group3_mean = np.mean(group3)\n",
    "\n",
    "#Calculate the total sum of squares(SST)\n",
    "sst = np.sum((data - mean)**2)\n",
    "\n",
    "#Calculate the exp[lained sum of squares(SSE)\n",
    "sse = np.sum((group1_mean - mean)**2) * len(group1) + \\\n",
    "      np.sum((group2_mean - mean)**2) * len(group2) + \\\n",
    "      np.sum((group3_mean - mean)**2) * len(group3)\n",
    "\n",
    "#Calculate the residual sum of squares(SSR)\n",
    "ssr = sst - sse\n",
    "\n",
    "#Degrees of freedom\n",
    "df_total = len(data) - 1\n",
    "df_groups = 3 - 1\n",
    "df_residual = df_total - df_groups\n",
    "\n",
    "#Mean squares\n",
    "ms_groups = sse / df_groups\n",
    "ms_residual = ssr / df_residual\n",
    "\n",
    "\n",
    "print(\"Total Sum of Squares (SST):\", sst)\n",
    "print(\"Explained Sum of Squares (SSE):\", sse)\n",
    "print(\"Residual Sum of Squares (SSR):\", ssr)"
   ]
  },
  {
   "cell_type": "markdown",
   "id": "1436fdfd-98d5-402d-af24-4b55a4758a67",
   "metadata": {},
   "source": [
    "## Q5. In a two-way ANOVA, how would you calculate the main effects and interaction effects using Python?"
   ]
  },
  {
   "cell_type": "code",
   "execution_count": 2,
   "id": "7a835716-99d9-449a-807f-d611cd2198ca",
   "metadata": {},
   "outputs": [],
   "source": [
    "import pandas as pd\n",
    "import statsmodels.api as sm\n",
    "from statsmodels.formula.api import ols\n",
    "from statsmodels.stats.anova import anova_lm"
   ]
  },
  {
   "cell_type": "code",
   "execution_count": 7,
   "id": "7e22cfbf-d3b5-4821-9c9a-609f6412db3e",
   "metadata": {},
   "outputs": [],
   "source": [
    "data = {\n",
    "    'factor1': [1, 1, 2, 2, 3, 3, 4, 4],\n",
    "    'factor2': ['A', 'B', 'A', 'B', 'A', 'B', 'A', 'B'],\n",
    "    'dependent_variable': [10, 12, 15, 14, 18, 20, 9, 11]\n",
    "}"
   ]
  },
  {
   "cell_type": "code",
   "execution_count": 8,
   "id": "e8558507-2156-412b-870b-38b8d373eb01",
   "metadata": {},
   "outputs": [],
   "source": [
    "df = pd.DataFrame(data)"
   ]
  },
  {
   "cell_type": "code",
   "execution_count": 5,
   "id": "c34569b6-fb7a-41a7-b5b4-83f462781c67",
   "metadata": {},
   "outputs": [
    {
     "data": {
      "text/html": [
       "<div>\n",
       "<style scoped>\n",
       "    .dataframe tbody tr th:only-of-type {\n",
       "        vertical-align: middle;\n",
       "    }\n",
       "\n",
       "    .dataframe tbody tr th {\n",
       "        vertical-align: top;\n",
       "    }\n",
       "\n",
       "    .dataframe thead th {\n",
       "        text-align: right;\n",
       "    }\n",
       "</style>\n",
       "<table border=\"1\" class=\"dataframe\">\n",
       "  <thead>\n",
       "    <tr style=\"text-align: right;\">\n",
       "      <th></th>\n",
       "      <th>factor1</th>\n",
       "      <th>factor2</th>\n",
       "      <th>dependent_variable</th>\n",
       "    </tr>\n",
       "  </thead>\n",
       "  <tbody>\n",
       "    <tr>\n",
       "      <th>0</th>\n",
       "      <td>1</td>\n",
       "      <td>A</td>\n",
       "      <td>10</td>\n",
       "    </tr>\n",
       "    <tr>\n",
       "      <th>1</th>\n",
       "      <td>1</td>\n",
       "      <td>B</td>\n",
       "      <td>12</td>\n",
       "    </tr>\n",
       "    <tr>\n",
       "      <th>2</th>\n",
       "      <td>2</td>\n",
       "      <td>A</td>\n",
       "      <td>15</td>\n",
       "    </tr>\n",
       "    <tr>\n",
       "      <th>3</th>\n",
       "      <td>2</td>\n",
       "      <td>B</td>\n",
       "      <td>14</td>\n",
       "    </tr>\n",
       "    <tr>\n",
       "      <th>4</th>\n",
       "      <td>3</td>\n",
       "      <td>A</td>\n",
       "      <td>18</td>\n",
       "    </tr>\n",
       "    <tr>\n",
       "      <th>5</th>\n",
       "      <td>3</td>\n",
       "      <td>B</td>\n",
       "      <td>20</td>\n",
       "    </tr>\n",
       "    <tr>\n",
       "      <th>6</th>\n",
       "      <td>4</td>\n",
       "      <td>A</td>\n",
       "      <td>9</td>\n",
       "    </tr>\n",
       "    <tr>\n",
       "      <th>7</th>\n",
       "      <td>4</td>\n",
       "      <td>B</td>\n",
       "      <td>11</td>\n",
       "    </tr>\n",
       "  </tbody>\n",
       "</table>\n",
       "</div>"
      ],
      "text/plain": [
       "   factor1 factor2  dependent_variable\n",
       "0        1       A                  10\n",
       "1        1       B                  12\n",
       "2        2       A                  15\n",
       "3        2       B                  14\n",
       "4        3       A                  18\n",
       "5        3       B                  20\n",
       "6        4       A                   9\n",
       "7        4       B                  11"
      ]
     },
     "execution_count": 5,
     "metadata": {},
     "output_type": "execute_result"
    }
   ],
   "source": [
    "df"
   ]
  },
  {
   "cell_type": "code",
   "execution_count": 11,
   "id": "77503577-7fa7-4d4c-9fce-aba245932d3c",
   "metadata": {},
   "outputs": [
    {
     "name": "stdout",
     "output_type": "stream",
     "text": [
      "Main Effect Factor 1: 0.0\n",
      "Main Effect Factor 2: 0.0\n",
      "Interaction Effect: 0.0\n"
     ]
    },
    {
     "name": "stderr",
     "output_type": "stream",
     "text": [
      "/opt/conda/lib/python3.10/site-packages/statsmodels/stats/anova.py:138: RuntimeWarning: divide by zero encountered in double_scalars\n",
      "  (model.ssr / model.df_resid))\n"
     ]
    }
   ],
   "source": [
    "#Perform two-way ANOVA using the ordinary least squares (OLS) method\n",
    "formula = 'dependent_variable ~ C(factor1) + C(factor2) + C(factor1):C(factor2)'\n",
    "model = ols(formula, data = df).fit()\n",
    "anova_results = anova_lm(model)\n",
    "\n",
    "#Extract main effects and interaction effects from the ANOVA results\n",
    "main_effect_factor1 = anova_results.loc['C(factor1)', 'F']\n",
    "main_effect_factor2 = anova_results.loc['C(factor2)', 'F']\n",
    "interaction_effect = anova_results.loc['C(factor1):C(factor2)', 'F']\n",
    "\n",
    "print(\"Main Effect Factor 1:\", main_effect_factor1)\n",
    "print(\"Main Effect Factor 2:\", main_effect_factor2)\n",
    "print(\"Interaction Effect:\", interaction_effect)"
   ]
  },
  {
   "cell_type": "markdown",
   "id": "bb203733-fee5-4e9e-b28c-fc5798b45315",
   "metadata": {},
   "source": [
    "## Q6. Suppose you conducted a one-way ANOVA and obtained an F-statistic of 5.23 and a p-value of 0.02. What can you conclude about the differences between the groups, and how would you interpret these results?"
   ]
  },
  {
   "cell_type": "markdown",
   "id": "2c93bc19-acb6-4488-bc8e-ca4a462649f2",
   "metadata": {},
   "source": [
    "### Interpretation of the F-statistic:\n",
    "The F-statistic is a ratio of variance between groups to variance within groups. A higher F-statistic suggests that the means of at least some of the groups are different from each other. In our case, the F-statistic is 5.23, indicating that there is some evidence of variability between the group means.\n",
    "\n",
    "### Interpretation of the p-value:\n",
    "The p-value represents the probability of observing the obtained F-statistic (or more extreme) under the assumption that there are no true differences between the group means (null hypothesis). A p-value of 0.02 indicates that if the null hypothesis were true (that is, if there were no actual differences between group means), we would expect to observe an F-statistic as extreme as 5.23 in only 2% of cases. Since this p-value is below the commonly chosen significance level (such as 0.05), it suggests that the differences between the groups are statistically significant."
   ]
  },
  {
   "cell_type": "markdown",
   "id": "e29c5da5-8ca3-489c-ae51-9deb37bb4e30",
   "metadata": {},
   "source": [
    "#### Based on the F-statistic and the p-value, we can conclude that there is evidence to reject the null hypothesis. In other words, there are statistically significant differences between at least some of the group means. However, the ANOVA test itself does not tell us which specific groups are different from each other; it only indicates that there are differences somewhere among the groups."
   ]
  },
  {
   "cell_type": "markdown",
   "id": "5aa8d6de-6e2e-413b-b195-5113da9c8b57",
   "metadata": {},
   "source": [
    "\n",
    "## Q7. In a repeated measures ANOVA, how would you handle missing data, and what are the potential consequences of using different methods to handle missing data?"
   ]
  },
  {
   "cell_type": "markdown",
   "id": "c9294782-63d2-4267-9700-5cd95d7f64fb",
   "metadata": {},
   "source": [
    "### Handling Missing Data:\n",
    "#### a. Mean Imputation: Replace missing values with the mean of the available data for that variable. This method can distort the variability and relationships in the data, leading to biased estimates of group means and potentially underestimating standard errors.\n",
    "\n",
    "#### b. Linear Interpolation: Estimate missing values based on a linear interpolation between adjacent observed data points. This method assumes a linear relationship and may not be appropriate for all types of data.\n",
    "\n",
    "#### c. Multiple Imputation: Generate multiple plausible imputed datasets, analyze each separately, and then combine results to account for uncertainty due to missing data. Multiple imputation can provide more accurate estimates and standard errors, but it can be computationally intensive."
   ]
  },
  {
   "cell_type": "markdown",
   "id": "53df0dcb-5034-4ff5-8546-be2d9cf09b64",
   "metadata": {},
   "source": [
    "### Potential Consequences of Different Methods:\n",
    "#### >Bias: Inaccurate handling of missing data can lead to biased estimates of group means, standard errors, and p-values. Biased estimates can result in incorrect conclusions about treatment effects.\n",
    "#### >Type I Errors and Inflated Type II Errors: Inadequate handling of missing data can result in inflated Type I error rates (false positives) or Type II error rates (false negatives)."
   ]
  },
  {
   "cell_type": "markdown",
   "id": "53f9fb54-7ad3-400e-88f8-ff2c5fd45fbe",
   "metadata": {},
   "source": [
    "## Q8. What are some common post-hoc tests used after ANOVA, and when would you use each one? Provide an example of a situation where a post-hoc test might be necessary."
   ]
  },
  {
   "cell_type": "markdown",
   "id": "5d6248fe-1efa-4738-90e0-e334bc87fb5b",
   "metadata": {},
   "source": [
    "#### Tukey's Honestly Significant Difference (HSD) Test:\n",
    "\n",
    ">Use when you have conducted an ANOVA and want to perform all possible pairwise comparisons.\n",
    "\n",
    ">Appropriate for situations where you have a relatively balanced design and you want to control the familywise error rate.\n",
    "\n",
    ">Example: In a study comparing the effects of three different treatments on blood pressure, you want to determine which treatment groups have significantly different means.\n",
    "\n",
    "#### Bonferroni Correction:\n",
    "\n",
    ">Use when you are conducting multiple pairwise comparisons and need to control the overall familywise error rate.\n",
    "\n",
    ">More conservative than some other methods, which can reduce the risk of Type I errors.\n",
    "\n",
    ">Example: A psychology study measures the effects of four different interventions on test anxiety, and you want to compare each intervention to every other intervention.\n",
    "\n",
    "#### Scheffe's Test:\n",
    "\n",
    ">Use when you have unequal sample sizes and/or unequal variances across groups.\n",
    "\n",
    ">Provides a more liberal correction and is suitable for situations where assumptions of equal variances and balanced designs are not met.\n",
    "\n",
    ">Example: An educational study examines the effects of teaching methods on student performance, but the class sizes are different for each teaching method."
   ]
  },
  {
   "cell_type": "markdown",
   "id": "99f1dd6b-4df1-4d46-a850-affaacfdf1bb",
   "metadata": {},
   "source": [
    "## Q9. A researcher wants to compare the mean weight loss of three diets: A, B, and C. They collect data from 50 participants who were randomly assigned to one of the diets. Conduct a one-way ANOVA using Python to determine if there are any significant differences between the mean weight loss of the three diets. Report the F-statistic and p-value, and interpret the results."
   ]
  },
  {
   "cell_type": "code",
   "execution_count": 14,
   "id": "0b839521-9840-49ab-94b9-41c42ec0abf5",
   "metadata": {},
   "outputs": [
    {
     "name": "stdout",
     "output_type": "stream",
     "text": [
      "F-statistic: 339.8596835805201\n",
      "p-value: 7.44736929462682e-56\n",
      "Reject the null hypothesis: There are significant differences between diet means.\n"
     ]
    }
   ],
   "source": [
    "import numpy as np\n",
    "from scipy import stats\n",
    "\n",
    "## Simulated weight loss data for three diets\n",
    "diet_A = np.array([2.5, 3.1, 1.8, 2.3, 3.0, 2.1, 2.8, 2.5, 3.2, 2.9,\n",
    "                   1.9, 2.6, 2.7, 2.2, 2.0, 3.3, 2.4, 2.6, 2.8, 2.3,\n",
    "                   2.7, 2.1, 2.4, 2.0, 2.9, 2.5, 2.8, 2.6, 3.1, 2.3,\n",
    "                   2.2, 2.4, 2.7, 2.9, 3.0, 2.6, 2.8, 2.5, 2.1, 2.3,\n",
    "                   2.4, 2.0, 2.7, 2.8, 3.2, 2.6, 2.9, 3.1, 2.3, 2.2])\n",
    "\n",
    "diet_B = np.array([3.5, 3.2, 3.9, 3.0, 3.4, 3.1, 3.7, 3.2, 3.8, 3.5,\n",
    "                   3.6, 3.3, 3.2, 3.1, 3.4, 3.5, 3.2, 3.0, 3.3, 3.6,\n",
    "                   3.4, 3.5, 3.2, 3.8, 3.9, 3.3, 3.1, 3.7, 3.4, 3.2,\n",
    "                   3.6, 3.3, 3.5, 3.4, 3.7, 3.2, 3.8, 3.6, 3.9, 3.1,\n",
    "                   3.2, 3.5, 3.6, 3.4, 3.2, 3.7, 3.3, 3.1, 3.9, 3.8])\n",
    "\n",
    "diet_C = np.array([4.0, 4.5, 3.7, 4.1, 3.9, 4.2, 4.4, 3.8, 4.3, 4.0,\n",
    "                   4.1, 4.2, 3.9, 4.4, 3.8, 4.3, 4.2, 4.0, 4.5, 3.7,\n",
    "                   4.1, 3.9, 4.2, 4.4, 3.8, 4.3, 4.0, 4.1, 4.2, 3.9,\n",
    "                   4.4, 3.8, 4.3, 4.2, 4.0, 4.5, 3.7, 4.1, 3.9, 4.2,\n",
    "                   4.4, 3.8, 4.3, 4.0, 4.1, 4.2, 3.9, 4.4, 3.8, 4.3])\n",
    "\n",
    "##Perform one-way ANOVA\n",
    "f_statistic, p_value = stats.f_oneway(diet_A, diet_B, diet_C)\n",
    "\n",
    "##Interpret the results\n",
    "alpha = 0.05\n",
    "\n",
    "print(\"F-statistic:\", f_statistic)\n",
    "print(\"p-value:\", p_value)\n",
    "\n",
    "if p_value < alpha:\n",
    "    print(\"Reject the null hypothesis: There are significant differences between diet means.\")\n",
    "else:\n",
    "    print(\"Fail to reject the null hypothesis: No significant differences between diet means.\")\n"
   ]
  },
  {
   "cell_type": "markdown",
   "id": "6acbdb17-da82-4f1a-b9e9-4538bd08b886",
   "metadata": {},
   "source": [
    "## Q10. A company wants to know if there are any significant differences in the average time it takes to complete a task using three different software programs: Program A, Program B, and Program C. They randomly assign 30 employees to one of the programs and record the time it takes each employee to complete the task. Conduct a two-way ANOVA using Python to determine if there are any main effects or interaction effects between the software programs and employee experience level (novice vs. experienced). Report the F-statistics and p-values, and interpret the results."
   ]
  },
  {
   "cell_type": "code",
   "execution_count": 4,
   "id": "25a1e052-1c6a-4ff4-853b-77341b699927",
   "metadata": {},
   "outputs": [
    {
     "name": "stdout",
     "output_type": "stream",
     "text": [
      "Two-Way ANOVA Results:\n",
      "                            df    sum_sq   mean_sq         F    PR(>F)\n",
      "C(Software)                2.0  4.406667  2.203333  5.352227  0.046340\n",
      "C(Experience)              1.0  0.053333  0.053333  0.129555  0.731225\n",
      "C(Software):C(Experience)  2.0  0.106667  0.053333  0.129555  0.880879\n",
      "Residual                   6.0  2.470000  0.411667       NaN       NaN\n",
      "\n",
      "At least one factor or interaction has a significant effect.\n"
     ]
    }
   ],
   "source": [
    "import pandas as pd\n",
    "import statsmodels.api as sm\n",
    "from statsmodels.formula.api import ols\n",
    "from statsmodels.stats.anova import anova_lm\n",
    "\n",
    "## Simulated data for the example\n",
    "data = {\n",
    "    'Software': ['A', 'B', 'C', 'A', 'B', 'C', 'A', 'B', 'C', 'A', 'B', 'C'],\n",
    "    'Experience': ['Novice', 'Novice', 'Novice', 'Experienced', 'Experienced', 'Experienced',\n",
    "                   'Novice', 'Novice', 'Novice', 'Experienced', 'Experienced', 'Experienced'],\n",
    "    'Time': [10.5, 12.2, 11.8, 9.9, 12.5, 10.8, 11.0, 11.8, 10.2, 10.8, 11.5, 11.2]\n",
    "}\n",
    "\n",
    "df = pd.DataFrame(data)\n",
    "\n",
    "#Perform two-way ANOVA\n",
    "formula = 'Time ~ C(Software) + C(Experience) + C(Software):C(Experience)'\n",
    "model = ols(formula, data=df).fit()\n",
    "anova_results = anova_lm(model)\n",
    "\n",
    "#Interpret the results\n",
    "alpha = 0.05\n",
    "\n",
    "print(\"Two-Way ANOVA Results:\")\n",
    "print(anova_results)\n",
    "\n",
    "if any(anova_results['PR(>F)'] < alpha):\n",
    "    print(\"\\nAt least one factor or interaction has a significant effect.\")\n",
    "else:\n",
    "    print(\"\\nNo significant effects or interactions were found.\")\n"
   ]
  },
  {
   "cell_type": "markdown",
   "id": "1f0f6e0a-3248-4e2a-8373-f730595ca67a",
   "metadata": {},
   "source": [
    "## Q11. An educational researcher is interested in whether a new teaching method improves student test scores. They randomly assign 100 students to either the control group (traditional teaching method) or the experimental group (new teaching method) and administer a test at the end of the semester. Conduct a two-sample t-test using Python to determine if there are any significant differences in test scores between the two groups. If the results are significant, follow up with a post-hoc test to determine which group(s) differ significantly from each other."
   ]
  },
  {
   "cell_type": "code",
   "execution_count": 6,
   "id": "8c0d252b-aa19-4bda-acee-1f2517a58630",
   "metadata": {},
   "outputs": [
    {
     "name": "stdout",
     "output_type": "stream",
     "text": [
      "Two-Sample T-Test Results:\n",
      "t-statistic: -10.197385641803868\n",
      "p-value: 4.514955794732805e-17\n",
      "\n",
      "Reject the null hypothesis: There is a significant difference in test scores.\n",
      "Performing post-hoc tests...\n",
      "Group 1 significantly differs from the other group(s).\n"
     ]
    }
   ],
   "source": [
    "import numpy as np\n",
    "from scipy import stats\n",
    "from statsmodels.stats.multitest import multipletests\n",
    "\n",
    "#Simulated test scores for the control and experimental groups\n",
    "control_group = np.array([82, 78, 85, 76, 89, 72, 90, 88, 81, 85, 79, 84, 88, 86, 75, 80, 77, 83, 80, 87,\n",
    "                          85, 79, 88, 81, 84, 78, 85, 82, 81, 87, 83, 89, 77, 80, 86, 84, 82, 78, 87, 75,\n",
    "                          79, 83, 81, 80, 86, 83, 82, 88, 84, 79])\n",
    "\n",
    "experimental_group = np.array([91, 88, 92, 89, 93, 86, 95, 94, 90, 92, 87, 91, 93, 92, 85, 89, 88, 91, 88, 92,\n",
    "                               90, 87, 94, 89, 91, 86, 92, 88, 87, 93, 90, 95, 85, 88, 92, 91, 88, 86, 93, 85,\n",
    "                               87, 89, 88, 86, 92, 89, 88, 93, 91, 86])\n",
    "\n",
    "#Perform two-sample t-test\n",
    "t_statistic, p_value = stats.ttest_ind(control_group, experimental_group)\n",
    "\n",
    "alpha = 0.05\n",
    "\n",
    "print(\"Two-Sample T-Test Results:\")\n",
    "print(\"t-statistic:\", t_statistic)\n",
    "print(\"p-value:\", p_value)\n",
    "\n",
    "if p_value < alpha:\n",
    "    print(\"\\nReject the null hypothesis: There is a significant difference in test scores.\")\n",
    "    print(\"Performing post-hoc tests...\")\n",
    "    \n",
    "    #Perform post-hoc tests (pairwise comparisons)\n",
    "    results = stats.ttest_ind(control_group, experimental_group)\n",
    "    corrected_p_values = multipletests(results.pvalue, method=\"bonferroni\")[1]\n",
    "    \n",
    "    for i in range(len(corrected_p_values)):\n",
    "        if corrected_p_values[i] < alpha:\n",
    "            print(f\"Group {i+1} significantly differs from the other group(s).\")\n",
    "else:\n",
    "    print(\"\\nFail to reject the null hypothesis: No significant difference in test scores.\")\n"
   ]
  },
  {
   "cell_type": "markdown",
   "id": "ea53967e-f3b7-41b8-9e07-28410023c66b",
   "metadata": {},
   "source": [
    "## Q12. A researcher wants to know if there are any significant differences in the average daily sales of three retail stores: Store A, Store B, and Store C. They randomly select 30 days and record the sales for each store on those days. Conduct a repeated measures ANOVA using Python to determine if there are any significant differences in sales between the three stores. If the results are significant, follow up with a post-hoc test to determine which store(s) differ significantly from each other."
   ]
  },
  {
   "cell_type": "code",
   "execution_count": 7,
   "id": "8bf7fea0-af58-43e9-b4d4-0756139978bd",
   "metadata": {},
   "outputs": [
    {
     "name": "stdout",
     "output_type": "stream",
     "text": [
      "One-Way ANOVA Results:\n",
      "F-statistic: 18.731778543632355\n",
      "p-value: 1.7169253438768638e-07\n",
      "\n",
      "Reject the null hypothesis: There is a significant difference in daily sales.\n",
      "Performing post-hoc Tukey's HSD test...\n",
      "  Multiple Comparison of Means - Tukey HSD, FWER=0.05  \n",
      "=======================================================\n",
      " group1  group2 meandiff p-adj   lower    upper  reject\n",
      "-------------------------------------------------------\n",
      "Store A Store B     -3.6 0.1597  -8.2404  1.0404  False\n",
      "Store A Store C -11.6333    0.0 -16.2738 -6.9929   True\n",
      "Store B Store C  -8.0333 0.0002 -12.6738 -3.3929   True\n",
      "-------------------------------------------------------\n"
     ]
    }
   ],
   "source": [
    "import numpy as np\n",
    "from scipy import stats\n",
    "from statsmodels.stats.multicomp import pairwise_tukeyhsd\n",
    "\n",
    "#Simulated daily sales data for the three stores\n",
    "store_A = np.array([120, 125, 130, 140, 135, 122, 128, 138, 133, 128,\n",
    "                    130, 136, 129, 125, 132, 131, 135, 130, 128, 127,\n",
    "                    123, 130, 128, 140, 133, 128, 136, 129, 125, 130])\n",
    "\n",
    "store_B = np.array([110, 115, 120, 125, 130, 125, 120, 118, 128, 132,\n",
    "                    121, 129, 130, 135, 140, 138, 133, 129, 126, 120,\n",
    "                    123, 130, 125, 130, 132, 128, 127, 122, 125, 130])\n",
    "\n",
    "store_C = np.array([100, 105, 98, 115, 110, 112, 105, 108, 105, 110,\n",
    "                    118, 120, 115, 122, 125, 120, 130, 128, 118, 115,\n",
    "                    120, 123, 122, 130, 125, 128, 130, 133, 135, 130])\n",
    "\n",
    "#Perform one-way ANOVA\n",
    "f_statistic, p_value = stats.f_oneway(store_A, store_B, store_C)\n",
    "\n",
    "alpha = 0.05\n",
    "\n",
    "print(\"One-Way ANOVA Results:\")\n",
    "print(\"F-statistic:\", f_statistic)\n",
    "print(\"p-value:\", p_value)\n",
    "\n",
    "if p_value < alpha:\n",
    "    print(\"\\nReject the null hypothesis: There is a significant difference in daily sales.\")\n",
    "    print(\"Performing post-hoc Tukey's HSD test...\")\n",
    "\n",
    "    #Combine data for the post-hoc test\n",
    "    all_sales = np.concatenate((store_A, store_B, store_C))\n",
    "    labels = ['Store A'] * len(store_A) + ['Store B'] * len(store_B) + ['Store C'] * len(store_C)\n",
    "\n",
    "    #Perform post-hoc Tukey's HSD test\n",
    "    tukey_results = pairwise_tukeyhsd(all_sales, labels, alpha=alpha)\n",
    "    print(tukey_results)\n",
    "else:\n",
    "    print(\"\\nFail to reject the null hypothesis: No significant difference in daily sales.\")\n"
   ]
  },
  {
   "cell_type": "code",
   "execution_count": null,
   "id": "82738c13-8eee-4775-a26f-e8e970cc1bab",
   "metadata": {},
   "outputs": [],
   "source": []
  }
 ],
 "metadata": {
  "kernelspec": {
   "display_name": "Python 3 (ipykernel)",
   "language": "python",
   "name": "python3"
  },
  "language_info": {
   "codemirror_mode": {
    "name": "ipython",
    "version": 3
   },
   "file_extension": ".py",
   "mimetype": "text/x-python",
   "name": "python",
   "nbconvert_exporter": "python",
   "pygments_lexer": "ipython3",
   "version": "3.10.8"
  }
 },
 "nbformat": 4,
 "nbformat_minor": 5
}
