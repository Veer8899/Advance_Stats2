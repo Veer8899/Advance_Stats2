{
 "cells": [
  {
   "cell_type": "markdown",
   "id": "e3e12880-0b5b-48f4-a26b-2fc792d686d0",
   "metadata": {},
   "source": [
    "## Q1: What is the difference between a t-test and a z-test? Provide an example scenario where you would use each type of test."
   ]
  },
  {
   "cell_type": "markdown",
   "id": "a1a384cb-ff6d-4557-bfc8-a4c7f4397011",
   "metadata": {},
   "source": [
    "### T-Test:\n",
    "#### A t-test is used when you have a small sample size (typically n < 30) or when the population standard deviation is unknown.\n",
    "#### It is appropriate when you are comparing a sample mean to a hypothesized population mean or when you are comparing two sample means.\n",
    "#### The test statistic in a t-test follows a t-distribution, which has fatter tails than the normal distribution.\n",
    "\n",
    "### Example Scenario for a T-Test:\n",
    "#### Suppose a pharmaceutical company develops a new drug and wants to test its effectiveness in reducing blood pressure. They randomly select 20 participants and measure their blood pressure before and after taking the drug. The company wants to determine whether there is a significant decrease in blood pressure after taking the drug. Since the sample size is relatively small, a t-test would be appropriate for this scenario."
   ]
  },
  {
   "cell_type": "markdown",
   "id": "fcb00a62-6979-40c1-825c-495333a26708",
   "metadata": {},
   "source": [
    "### Z-Test:\n",
    "#### A z-test is used when you have a large sample size (typically n > 30) and the population standard deviation is known.\n",
    "#### It is appropriate when you are comparing a sample mean to a known population mean or when you are comparing two sample means.\n",
    "#### The test statistic in a z-test follows a standard normal distribution (z-distribution).\n",
    "\n",
    "### Example Scenario for a Z-Test:\n",
    "#### Suppose you work for a manufacturing company that claims their product has an average weight of 500 grams. You take a random sample of 50 products and find that their average weight is 505 grams. You can use a z-test to determine whether the sample mean of 505 grams is significantly different from the claimed population mean of 500 grams."
   ]
  },
  {
   "cell_type": "markdown",
   "id": "a5b77885-ef80-402e-b9cd-19260c3b5a84",
   "metadata": {},
   "source": [
    "## Q2: Differentiate between one-tailed and two-tailed tests."
   ]
  },
  {
   "cell_type": "markdown",
   "id": "7f3ceee0-f431-4e9e-9690-39c409fe1436",
   "metadata": {},
   "source": [
    "### One-Tailed Test:\n",
    "\n",
    "#### In a one-tailed test, the null hypothesis is tested against a specific direction or outcome. The alternative hypothesis is formulated to check whether the sample data is significantly greater than or significantly less than a certain value.\n",
    "#### The critical region is located on one side of the distribution (either the left tail or the right tail), depending on the specific direction specified in the alternative hypothesis.\n",
    "#### A one-tailed test is used when you are interested in determining whether the sample data deviates in only one specific direction.\n",
    "\n",
    "### Two-Tailed Test:\n",
    "\n",
    "#### In a two-tailed test, the null hypothesis is tested against the possibility of any significant difference, regardless of direction. The alternative hypothesis is generally formulated to check whether the sample data is significantly different from a certain value.\n",
    "#### The critical region is divided into two parts, located in both tails of the distribution.\n",
    "#### A two-tailed test is used when you are interested in determining whether the sample data deviates significantly in either direction from the null hypothesis."
   ]
  },
  {
   "cell_type": "markdown",
   "id": "34dcbf9c-2c60-45c5-ab68-8f462b69f3ee",
   "metadata": {},
   "source": [
    "## Q3: Explain the concept of Type 1 and Type 2 errors in hypothesis testing. Provide an example scenario for each type of error.\n",
    "\n",
    "### Type 1 Error (False Positive):\n",
    "#### A Type 1 error occurs when the null hypothesis is incorrectly rejected when it is actually true. In other words, you conclude there is a significant effect or difference when there isn't one in reality. The probability of committing a Type 1 error is denoted by the symbol alpha and is also called the significance level.\n",
    "\n",
    "### Example Scenario for Type 1 Error:\n",
    "#### Suppose a pharmaceutical company is testing a new drug to determine if it reduces cholesterol levels. The null hypothesis states that the drug has no effect on cholesterol levels. However, due to a small sample size or random variability, the company's analysis incorrectly leads them to reject the null hypothesis and claim that the drug is effective, even though it's not. This is a Type 1 error.\n",
    "\n",
    "### Type 2 Error (False Negative):\n",
    "#### A Type 2 error occurs when the null hypothesis is incorrectly not rejected when it is actually false. In other words, you fail to detect a significant effect or difference that actually exists. The probability of committing a Type 2 error is denoted by the symbol beta.\n",
    "\n",
    "### Example Scenario for Type 2 Error:\n",
    "#### Continuing from the previous example, suppose the new drug actually does reduce cholesterol levels, but the company's study fails to show a statistically significant difference due to a small sample size or other factors. In this case, the null hypothesis is not rejected, even though it should have been rejected. This is a Type 2 error."
   ]
  },
  {
   "cell_type": "markdown",
   "id": "b5a4df36-3c1e-45d1-b744-d2256a9763e9",
   "metadata": {},
   "source": [
    "## Q4: Explain Bayes's theorem with an example."
   ]
  },
  {
   "cell_type": "markdown",
   "id": "a6f0fbe7-4e05-4367-be2f-165c18bd2d95",
   "metadata": {},
   "source": [
    "#### Bayes's Theorem is a fundamental concept in probability theory and statistics that describes how to update the probability of a hypothesis based on new evidence. It provides a mathematical framework for incorporating new information into our beliefs or understanding about a situation."
   ]
  },
  {
   "cell_type": "markdown",
   "id": "cd36e0c0-c009-4651-bd8f-49af483c133f",
   "metadata": {},
   "source": [
    "The formula for Bayes's Theorem is as follows:\n",
    "\n",
    "P(A|B) = P(B|A).P(A)/P(B)\n",
    "\n",
    "Where:\n",
    "\n",
    "\n",
    "##### P(A∣B) is the posterior probability of event A given event B has occurred.\n",
    "##### P(B∣A) is the likelihood of event B occurring given that event A has occurred.\n",
    "##### P(A) is the prior probability of event A.\n",
    "##### P(B) is the probability of event B.\n",
    "\n",
    "Let's explain Bayes's Theorem with a classic example: medical testing.\n",
    "\n",
    "Suppose we are concerned about having a rare disease and you decide to take a medical test. Let's define the following events:\n",
    "\n",
    "\n",
    "A: Having the disease (the hypothesis you want to test).\n",
    "B: Testing positive on the medical test.\n",
    "\n",
    "\n",
    "We know the following probabilities:\n",
    "\n",
    "##### P(A): The prior probability of having the disease (which might be very low since it's a rare disease).\n",
    "##### P(B∣A): The probability of testing positive given that you actually have the disease (this is the test's sensitivity).\n",
    "##### P(B∣¬A): The probability of testing positive given that you don't have the disease (this is the test's false positive rate).\n",
    "\n",
    "\n",
    "Now, you want to find out the probability that you actually have the disease given that you tested positive, P(A∣B).\n",
    "\n",
    "Using Bayes's Theorem:\n",
    "\n",
    "P(A∣B)= P(B∣A)⋅P(A)/P(B)\n",
    "\n",
    "We need to calculate  P(B), which can be expressed as the sum of two cases: testing positive and having the disease, and testing positive and not having the disease.\n",
    "\n",
    "\n",
    "P(B)=P(B∣A)⋅P(A)+P(B∣¬A)⋅P(¬A)\n",
    "\n",
    "Where P(¬A) is the probability of not having the disease.\n",
    "\n",
    "Now, you can substitute the values you know into the equation to calculate P(A∣B), which represents the updated probability of having the disease after testing positive."
   ]
  },
  {
   "cell_type": "markdown",
   "id": "e640eaf8-1a83-4946-bb0d-2f69f2fd7431",
   "metadata": {},
   "source": [
    "## Q5: What is a confidence interval? How to calculate the confidence interval, explain with an example."
   ]
  },
  {
   "cell_type": "markdown",
   "id": "4166354d-9e23-4522-981c-f60b41246f0f",
   "metadata": {},
   "source": [
    "#### A confidence interval is a statistical range that provides an estimate of the true value of a population parameter based on a sample from that population."
   ]
  },
  {
   "cell_type": "markdown",
   "id": "a9f7ef07-747c-4114-b39c-41fce33fa18a",
   "metadata": {},
   "source": [
    "Confidence Interval = Sample Mean±Z-Score * Population Standard Deviation/ root under sample size\n",
    "\n",
    "\n",
    "Suppose a company wants to estimate the average time it takes for customers to complete a specific task on their website. They collect a random sample of 50 customers and record their completion times. The sample mean completion time is 25.6 seconds, and the population standard deviation is known to be 4.2 seconds. The company wants to calculate a 95% confidence interval for the true average completion time.\n",
    "\n",
    "1.Determine the Z-Score for the 95% confidence level. For a 95% confidence level, the critical value (Z-Score) is approximately 1.96 (you can find this value in a standard normal distribution table).\n",
    "\n",
    "2.Plug in the values into the formula:\n",
    "Confidence Interval =25.6±1.96*4.2/50\n",
    "\n",
    "3.Calculate the margin of error:\n",
    "Margin of Error=1.96*4.250 =Approx 1.172\n",
    "\n",
    "4.Calculate the confidence interval:\n",
    "Lower bound = 25.6 - 1.172 = 24.428\n",
    "Upper bound = 25.6 + 1.172 = 26.772\n",
    "\n",
    "So, the 95% confidence interval for the true average completion time is approximately 24.428 to 26.772 seconds. This means that the company can be 95% confident that the true average completion time for all customers falls within this range based on the sample data."
   ]
  },
  {
   "cell_type": "markdown",
   "id": "58240be2-a091-49f5-a110-b84021a6657b",
   "metadata": {},
   "source": [
    "## Q6. Use Bayes' Theorem to calculate the probability of an event occurring given prior knowledge of the event's probability and new evidence. Provide a sample problem and solution."
   ]
  },
  {
   "cell_type": "markdown",
   "id": "1c8d50be-3f38-4632-b396-c9dd8a7f2e4a",
   "metadata": {},
   "source": [
    "Sample Problem:\n",
    "Suppose a factory produces light bulbs, and it's known that 5% of the bulbs produced are defective. A quality control test is performed, which is 90% accurate at detecting defective bulbs and 95% accurate at identifying non-defective bulbs. If a randomly selected light bulb fails the quality control test, what is the probability that it is actually defective?\n",
    "\n",
    "Solution:\n",
    "Let's define the events:\n",
    "\n",
    "D: The event that a randomly selected bulb is defective.\n",
    "¬D: The event that a randomly selected bulb is not defective.\n",
    "T: The event that a bulb fails the quality control test.\n",
    "\n",
    "We are asked to find P(D∣T), the probability that a bulb is defective given that it fails the quality control test.\n",
    "\n",
    "We know the following probabilities:\n",
    "\n",
    "##### P(D)=0.05 (prior probability of a bulb being defective)\n",
    "##### P(¬D)=1−P(D)=0.95 (prior probability of a bulb not being defective)\n",
    "##### P(T∣D)=0.90 (probability of failing the test given that the bulb is defective)\n",
    "##### P(T∣¬D)=1−0.95=0.05 (probability of failing the test given that the bulb is not defective)\n",
    "\n",
    "Using Bayes' Theorem:\n",
    "\n",
    "P(D∣T)= P(T∣D)⋅P(D)/P(T)\n",
    "\n",
    "We need to calculate P(T), which can be expressed as the sum of two cases: failing the test and being defective, and failing the test and not being defective.\n",
    "\n",
    "P(T)=P(T∣D)⋅P(D)+P(T∣¬D)⋅P(¬D)\n",
    "\n",
    "Substitute the values into the formula to calculate P(D|T):\n",
    "P(D∣T)= P(T∣D)⋅P(D)/P(T) =0.90*0.05/0.90*0.05+0.05⋅0.95 = approx (0.487)\n",
    "\n",
    "So, the probability that a bulb is actually defective given that it fails the quality control test is approximately 0.487, or 48.7%."
   ]
  },
  {
   "cell_type": "markdown",
   "id": "6581420d-200b-463d-b3f8-b958de85134b",
   "metadata": {},
   "source": [
    "## Q7. Calculate the 95% confidence interval for a sample of data with a mean of 50 and a standard deviation of 5. Interpret the results."
   ]
  },
  {
   "cell_type": "code",
   "execution_count": 1,
   "id": "51a04790-effa-412b-ab6e-1cc12603a680",
   "metadata": {},
   "outputs": [
    {
     "name": "stdout",
     "output_type": "stream",
     "text": [
      "95% Confidence Interval:\n",
      "Lower Bound: 48.210805856282846\n",
      "Upper Bound: 51.789194143717154\n"
     ]
    }
   ],
   "source": [
    "import scipy.stats as stats\n",
    "\n",
    "# Given data\n",
    "sample_mean = 50\n",
    "population_stddev = 5\n",
    "sample_size = 30\n",
    "confidence_level = 0.95\n",
    "\n",
    "# Calculate the standard error\n",
    "standard_error = population_stddev / (sample_size ** 0.5)\n",
    "\n",
    "# Calculate the Z-Score for the desired confidence level\n",
    "z_score = stats.norm.ppf(1 - (1 - confidence_level) / 2)\n",
    "\n",
    "# Calculate the margin of error\n",
    "margin_of_error = z_score * standard_error\n",
    "\n",
    "# Calculate the confidence interval\n",
    "confidence_interval_lower = sample_mean - margin_of_error\n",
    "confidence_interval_upper = sample_mean + margin_of_error\n",
    "\n",
    "# Print the results\n",
    "print(\"95% Confidence Interval:\")\n",
    "print(\"Lower Bound:\", confidence_interval_lower)\n",
    "print(\"Upper Bound:\", confidence_interval_upper)\n"
   ]
  },
  {
   "cell_type": "markdown",
   "id": "7b4f4149-ac04-4e41-a316-80b22928ba13",
   "metadata": {},
   "source": [
    "## Q8. What is the margin of error in a confidence interval? How does sample size affect the margin of error? Provide an example of a scenario where a larger sample size would result in a smaller margin of error."
   ]
  },
  {
   "cell_type": "markdown",
   "id": "756d00bf-10e1-4118-b88d-255717ab1a47",
   "metadata": {},
   "source": [
    "#### The margin of error (MOE) in a confidence interval is the range around a point estimate that indicates the uncertainty associated with the estimate. It represents the maximum amount by which the estimate might differ from the true population parameter. In other words, it's a measure of the precision of the estimate."
   ]
  },
  {
   "cell_type": "markdown",
   "id": "f23158e8-815d-4770-b876-a8f3d789e484",
   "metadata": {},
   "source": [
    "### Sample size has a direct impact on the margin of error:\n",
    "\n",
    "#### Inverse Relationship with Sample Size: As the sample size increases, the margin of error decreases, holding other factors constant. This is because larger sample sizes provide more information about the population, leading to a more accurate estimate.\n",
    "\n",
    "#### Direct Relationship with Variability: The margin of error is also affected by the variability of the data. If the data points in the sample are more spread out (higher variability), the margin of error will be larger for a given sample size."
   ]
  },
  {
   "cell_type": "markdown",
   "id": "6be1a86e-0b29-4197-8c35-4a52b0a255a7",
   "metadata": {},
   "source": [
    "Example:\n",
    "Let's consider an example to illustrate how sample size affects the margin of error.\n",
    "\n",
    "Suppose a political polling organization wants to estimate the proportion of voters who support a particular candidate in an upcoming election. They conduct two separate surveys with different sample sizes:\n",
    "\n",
    "Survey 1:\n",
    "\n",
    "##### Sample Size (n) = 500\n",
    "##### Proportion of Support (p) = 0.60 (60%)\n",
    "##### Confidence Level = 95%\n",
    "\n",
    "Survey 2:\n",
    "\n",
    "##### Sample Size (n) = 1000\n",
    "##### Proportion of Support (p) = 0.60 (60%)\n",
    "##### Confidence Level = 95%\n",
    "\n",
    "Using the formula for the margin of error for a proportion:\n",
    "\n",
    "Margin of Error=Z-Score * √p*(1-p)/n\n",
    "\n",
    "\n",
    "For a 95% confidence level, the Z-Score is approximately 1.96.\n",
    "\n",
    "Survey 1:\n",
    "MOE (Survey 1) = 1.96 * √0.60*(1-0.60)/500 = Approx(0.042)\n",
    "\n",
    "MOE (Survey 2) = 1.96 * √0.60*(1-0.60)/1000 = Approx (0.030)\n",
    "\n",
    "\n",
    "##### In this example, Survey 2 has a larger sample size (n=1000) compared to Survey 1 (n=500). As a result, Survey 2 has a smaller margin of error (0.030) compared to Survey 1 (0.042). This means that the estimate of the proportion of voters who support the candidate is more precise in Survey 2 due to the larger sample size, leading to a smaller range of possible values around the estimate.\n"
   ]
  },
  {
   "cell_type": "markdown",
   "id": "40dfb81c-8942-4f11-9d5f-a1871c2a0816",
   "metadata": {},
   "source": [
    "## Q9. Calculate the z-score for a data point with a value of 75, a population mean of 70, and a population standard deviation of 5. Interpret the results."
   ]
  },
  {
   "cell_type": "code",
   "execution_count": 2,
   "id": "cad5fd8d-91f4-423b-86df-46bdd6e43f11",
   "metadata": {},
   "outputs": [
    {
     "name": "stdout",
     "output_type": "stream",
     "text": [
      "Z-Score: 1.0\n"
     ]
    }
   ],
   "source": [
    "import scipy.stats as stats\n",
    "\n",
    "# Given values\n",
    "data_point = 75\n",
    "population_mean = 70\n",
    "population_stddev = 5\n",
    "\n",
    "# Calculate the z-score\n",
    "z_score = (data_point - population_mean) / population_stddev\n",
    "\n",
    "# Print the result\n",
    "print(\"Z-Score:\", z_score)\n"
   ]
  },
  {
   "cell_type": "markdown",
   "id": "b905574d-e669-4399-85a4-5f0e8b2f6145",
   "metadata": {},
   "source": [
    "## Q10. In a study of the effectiveness of a new weight loss drug, a sample of 50 participants lost an average of 6 pounds with a standard deviation of 2.5 pounds. Conduct a hypothesis test to determine if the drug is significantly effective at a 95% confidence level using a t-test."
   ]
  },
  {
   "cell_type": "code",
   "execution_count": 3,
   "id": "8cef2771-6b12-4c61-820f-5477de98c36b",
   "metadata": {},
   "outputs": [
    {
     "name": "stdout",
     "output_type": "stream",
     "text": [
      "Reject the null hypothesis: The drug is significantly effective.\n"
     ]
    }
   ],
   "source": [
    "import scipy.stats as stats\n",
    "\n",
    "# Given values\n",
    "sample_mean = 6\n",
    "null_mean = 0\n",
    "sample_stddev = 2.5\n",
    "sample_size = 50\n",
    "confidence_level = 0.95\n",
    "degrees_of_freedom = sample_size - 1\n",
    "\n",
    "# Calculate the t-statistic\n",
    "t_statistic = (sample_mean - null_mean) / (sample_stddev / (sample_size ** 0.5))\n",
    "\n",
    "# Calculate the critical t-value\n",
    "critical_t_value = stats.t.ppf(1 - (1 - confidence_level) / 2, degrees_of_freedom)\n",
    "\n",
    "# Perform the hypothesis test\n",
    "if abs(t_statistic) > critical_t_value:\n",
    "    print(\"Reject the null hypothesis: The drug is significantly effective.\")\n",
    "else:\n",
    "    print(\"Fail to reject the null hypothesis: The drug is not significantly effective.\")\n"
   ]
  },
  {
   "cell_type": "markdown",
   "id": "44558020-c028-464d-b821-4a09d6ebf130",
   "metadata": {},
   "source": [
    "## Q11. In a survey of 500 people, 65% reported being satisfied with their current job. Calculate the 95% confidence interval for the true proportion of people who are satisfied with their job."
   ]
  },
  {
   "cell_type": "code",
   "execution_count": 4,
   "id": "aa7d7739-87c9-4f7d-a2b6-3dcff3fb1ab6",
   "metadata": {},
   "outputs": [
    {
     "name": "stdout",
     "output_type": "stream",
     "text": [
      "95% Confidence Interval:\n",
      "Lower Bound: 0.608191771144905\n",
      "Upper Bound: 0.6918082288550951\n"
     ]
    }
   ],
   "source": [
    "# Given values\n",
    "sample_proportion = 0.65\n",
    "sample_size = 500\n",
    "confidence_level = 0.95\n",
    "z_score = 1.96  # Z-Score for 95% confidence level\n",
    "\n",
    "# Calculate the standard error\n",
    "standard_error = (sample_proportion * (1 - sample_proportion) / sample_size) ** 0.5\n",
    "\n",
    "# Calculate the margin of error\n",
    "margin_of_error = z_score * standard_error\n",
    "\n",
    "# Calculate the confidence interval\n",
    "confidence_interval_lower = sample_proportion - margin_of_error\n",
    "confidence_interval_upper = sample_proportion + margin_of_error\n",
    "\n",
    "# Print the results\n",
    "print(\"95% Confidence Interval:\")\n",
    "print(\"Lower Bound:\", confidence_interval_lower)\n",
    "print(\"Upper Bound:\", confidence_interval_upper)\n"
   ]
  },
  {
   "cell_type": "markdown",
   "id": "938f28c3-6bb8-4289-aa7a-52ccbbd0b923",
   "metadata": {},
   "source": [
    "## Q12. A researcher is testing the effectiveness of two different teaching methods on student performance. Sample A has a mean score of 85 with a standard deviation of 6, while sample B has a mean score of 82 with a standard deviation of 5. Conduct a hypothesis test to determine if the two teaching methods have a significant difference in student performance using a t-test with a significance level of 0.01."
   ]
  },
  {
   "cell_type": "code",
   "execution_count": 5,
   "id": "b1019f6c-62f7-4b61-84fa-31d4a3e26d1f",
   "metadata": {},
   "outputs": [
    {
     "name": "stdout",
     "output_type": "stream",
     "text": [
      "Reject the null hypothesis: There is a significant difference in student performance between the two teaching methods.\n"
     ]
    }
   ],
   "source": [
    "import scipy.stats as stats\n",
    "\n",
    "# Given values for sample A\n",
    "sample_mean_a = 85\n",
    "sample_stddev_a = 6\n",
    "sample_size_a = 30  # Assumed sample size\n",
    "\n",
    "# Given values for sample B\n",
    "sample_mean_b = 82\n",
    "sample_stddev_b = 5\n",
    "sample_size_b = 35  # Assumed sample size\n",
    "\n",
    "# Significance level\n",
    "alpha = 0.01\n",
    "\n",
    "# Calculate the pooled standard deviation\n",
    "pooled_stddev = ((sample_stddev_a**2 / sample_size_a) + (sample_stddev_b**2 / sample_size_b)) ** 0.5\n",
    "\n",
    "# Calculate the degrees of freedom\n",
    "degrees_of_freedom = sample_size_a + sample_size_b - 2\n",
    "\n",
    "# Calculate the t-statistic\n",
    "t_statistic = (sample_mean_a - sample_mean_b) / (pooled_stddev * (1/sample_size_a + 1/sample_size_b)**0.5)\n",
    "\n",
    "# Calculate the critical t-value\n",
    "critical_t_value = stats.t.ppf(1 - alpha/2, degrees_of_freedom)\n",
    "\n",
    "# Perform the hypothesis test\n",
    "if abs(t_statistic) > critical_t_value:\n",
    "    print(\"Reject the null hypothesis: There is a significant difference in student performance between the two teaching methods.\")\n",
    "else:\n",
    "    print(\"Fail to reject the null hypothesis: There is no significant difference in student performance between the two teaching methods.\")\n"
   ]
  },
  {
   "cell_type": "markdown",
   "id": "17c1700a-36c5-4f46-8394-82196c3e89a0",
   "metadata": {},
   "source": [
    "## Q13. A population has a mean of 60 and a standard deviation of 8. A sample of 50 observations has a mean of 65. Calculate the 90% confidence interval for the true population mean."
   ]
  },
  {
   "cell_type": "code",
   "execution_count": 6,
   "id": "750b3b06-e52c-46c1-bbd4-a5cae1af4381",
   "metadata": {},
   "outputs": [
    {
     "name": "stdout",
     "output_type": "stream",
     "text": [
      "90% Confidence Interval:\n",
      "Lower Bound: 63.13889495191701\n",
      "Upper Bound: 66.86110504808299\n"
     ]
    }
   ],
   "source": [
    "# Given values\n",
    "sample_mean = 65\n",
    "population_stddev = 8\n",
    "sample_size = 50\n",
    "confidence_level = 0.90\n",
    "z_score = 1.645  # Z-Score for 90% confidence level\n",
    "\n",
    "# Calculate the standard error\n",
    "standard_error = population_stddev / (sample_size ** 0.5)\n",
    "\n",
    "# Calculate the margin of error\n",
    "margin_of_error = z_score * standard_error\n",
    "\n",
    "# Calculate the confidence interval\n",
    "confidence_interval_lower = sample_mean - margin_of_error\n",
    "confidence_interval_upper = sample_mean + margin_of_error\n",
    "\n",
    "# Print the results\n",
    "print(\"90% Confidence Interval:\")\n",
    "print(\"Lower Bound:\", confidence_interval_lower)\n",
    "print(\"Upper Bound:\", confidence_interval_upper)\n"
   ]
  },
  {
   "cell_type": "markdown",
   "id": "a7ece99b-6fed-4b40-9342-8e7bc755fe4f",
   "metadata": {},
   "source": [
    "## Q14. In a study of the effects of caffeine on reaction time, a sample of 30 participants had an average reaction time of 0.25 seconds with a standard deviation of 0.05 seconds. Conduct a hypothesis test to determine if the caffeine has a significant effect on reaction time at a 90% confidence level using a t-test."
   ]
  },
  {
   "cell_type": "code",
   "execution_count": 7,
   "id": "7c3d32b1-0b28-4e45-96b9-bfad60e42d51",
   "metadata": {},
   "outputs": [
    {
     "name": "stdout",
     "output_type": "stream",
     "text": [
      "Fail to reject the null hypothesis: Caffeine does not have a significant effect on reaction time.\n"
     ]
    }
   ],
   "source": [
    "import scipy.stats as stats\n",
    "\n",
    "# Given values\n",
    "sample_mean = 0.25\n",
    "hypothesized_mean = 0.25\n",
    "sample_stddev = 0.05\n",
    "sample_size = 30\n",
    "confidence_level = 0.90\n",
    "degrees_of_freedom = sample_size - 1\n",
    "\n",
    "# Calculate the t-statistic\n",
    "t_statistic = (sample_mean - hypothesized_mean) / (sample_stddev / (sample_size ** 0.5))\n",
    "\n",
    "# Calculate the critical t-value\n",
    "critical_t_value = stats.t.ppf(1 - (1 - confidence_level) / 2, degrees_of_freedom)\n",
    "\n",
    "# Perform the hypothesis test\n",
    "if abs(t_statistic) > critical_t_value:\n",
    "    print(\"Reject the null hypothesis: Caffeine has a significant effect on reaction time.\")\n",
    "else:\n",
    "    print(\"Fail to reject the null hypothesis: Caffeine does not have a significant effect on reaction time.\")\n",
    "\n",
    "\n"
   ]
  },
  {
   "cell_type": "code",
   "execution_count": null,
   "id": "1040ab39-c2ab-4b3b-88b9-e5486ae1c474",
   "metadata": {},
   "outputs": [],
   "source": []
  }
 ],
 "metadata": {
  "kernelspec": {
   "display_name": "Python 3 (ipykernel)",
   "language": "python",
   "name": "python3"
  },
  "language_info": {
   "codemirror_mode": {
    "name": "ipython",
    "version": 3
   },
   "file_extension": ".py",
   "mimetype": "text/x-python",
   "name": "python",
   "nbconvert_exporter": "python",
   "pygments_lexer": "ipython3",
   "version": "3.10.8"
  }
 },
 "nbformat": 4,
 "nbformat_minor": 5
}
